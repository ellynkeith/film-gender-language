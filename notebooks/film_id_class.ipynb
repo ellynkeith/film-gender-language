{
 "cells": [
  {
   "cell_type": "markdown",
   "metadata": {},
   "source": [
    "Create dictionary of objects, each object a FilmID class"
   ]
  },
  {
   "cell_type": "code",
   "execution_count": 2,
   "metadata": {
    "collapsed": true
   },
   "outputs": [],
   "source": [
    "import pandas as pd"
   ]
  },
  {
   "cell_type": "code",
   "execution_count": 39,
   "metadata": {
    "collapsed": false
   },
   "outputs": [],
   "source": [
    "df_film = pd.read_csv(\"film_data_clean.csv\", index_col = \"film_id\")\n",
    "df_char = pd.read_csv(\"char_data_clean.csv\", index_col = \"film_id\")"
   ]
  },
  {
   "cell_type": "code",
   "execution_count": 4,
   "metadata": {
    "collapsed": false
   },
   "outputs": [
    {
     "data": {
      "text/html": [
       "<div>\n",
       "<table border=\"1\" class=\"dataframe\">\n",
       "  <thead>\n",
       "    <tr style=\"text-align: right;\">\n",
       "      <th></th>\n",
       "      <th>Unnamed: 0</th>\n",
       "      <th>film_title</th>\n",
       "      <th>film_release_date</th>\n",
       "      <th>film_language</th>\n",
       "      <th>film_country</th>\n",
       "      <th>film_summaries</th>\n",
       "    </tr>\n",
       "    <tr>\n",
       "      <th>film_id</th>\n",
       "      <th></th>\n",
       "      <th></th>\n",
       "      <th></th>\n",
       "      <th></th>\n",
       "      <th></th>\n",
       "      <th></th>\n",
       "    </tr>\n",
       "  </thead>\n",
       "  <tbody>\n",
       "    <tr>\n",
       "      <th>330</th>\n",
       "      <td>61305</td>\n",
       "      <td>Actrius</td>\n",
       "      <td>1996</td>\n",
       "      <td>{\"/m/01m69\": \"Catalan language\", \"/m/06nm1\": \"...</td>\n",
       "      <td>{\"/m/06mkj\": \"Spain\"}</td>\n",
       "      <td>['in', 'order', 'to', 'prepare', 'the', 'role'...</td>\n",
       "    </tr>\n",
       "    <tr>\n",
       "      <th>3217</th>\n",
       "      <td>14570</td>\n",
       "      <td>Army of Darkness</td>\n",
       "      <td>1992</td>\n",
       "      <td>{\"/m/02h40lc\": \"English Language\"}</td>\n",
       "      <td>{\"/m/09c7w0\": \"United States of America\"}</td>\n",
       "      <td>['after', 'being', 'pulled', 'through', 'a', '...</td>\n",
       "    </tr>\n",
       "    <tr>\n",
       "      <th>3333</th>\n",
       "      <td>2634</td>\n",
       "      <td>The Birth of a Nation</td>\n",
       "      <td>1915</td>\n",
       "      <td>{\"/m/06ppq\": \"Silent film\", \"/m/02h40lc\": \"Eng...</td>\n",
       "      <td>{\"/m/09c7w0\": \"United States of America\"}</td>\n",
       "      <td>['the', 'film', 'follows', 'two', 'juxtaposed'...</td>\n",
       "    </tr>\n",
       "    <tr>\n",
       "      <th>3746</th>\n",
       "      <td>48191</td>\n",
       "      <td>Blade Runner</td>\n",
       "      <td>1982</td>\n",
       "      <td>{\"/m/03_9r\": \"Japanese Language\", \"/m/012w70\":...</td>\n",
       "      <td>{\"/m/09c7w0\": \"United States of America\", \"/m/...</td>\n",
       "      <td>['{{hatnote}}', 'in', 'los', 'angeles,', 'nove...</td>\n",
       "    </tr>\n",
       "    <tr>\n",
       "      <th>3837</th>\n",
       "      <td>48856</td>\n",
       "      <td>Blazing Saddles</td>\n",
       "      <td>1974</td>\n",
       "      <td>{\"/m/0880p\": \"Yiddish Language\", \"/m/02h40lc\":...</td>\n",
       "      <td>{\"/m/09c7w0\": \"United States of America\"}</td>\n",
       "      <td>['in', 'the', 'american', 'old', 'west', 'of',...</td>\n",
       "    </tr>\n",
       "    <tr>\n",
       "      <th>3947</th>\n",
       "      <td>10005</td>\n",
       "      <td>Blue Velvet</td>\n",
       "      <td>1986</td>\n",
       "      <td>{\"/m/02h40lc\": \"English Language\"}</td>\n",
       "      <td>{\"/m/09c7w0\": \"United States of America\"}</td>\n",
       "      <td>['jeffrey', 'beaumont', 'returns', 'to', 'his'...</td>\n",
       "    </tr>\n",
       "    <tr>\n",
       "      <th>4227</th>\n",
       "      <td>13905</td>\n",
       "      <td>Barry Lyndon</td>\n",
       "      <td>1975</td>\n",
       "      <td>{\"/m/064_8sq\": \"French Language\", \"/m/02h40lc\"...</td>\n",
       "      <td>{\"/m/09c7w0\": \"United States of America\", \"/m/...</td>\n",
       "      <td>[':by', 'what', 'means', 'redmond', 'barry', '...</td>\n",
       "    </tr>\n",
       "    <tr>\n",
       "      <th>4231</th>\n",
       "      <td>23979</td>\n",
       "      <td>Buffy the Vampire Slayer</td>\n",
       "      <td>1992</td>\n",
       "      <td>{\"/m/02h40lc\": \"English Language\"}</td>\n",
       "      <td>{\"/m/09c7w0\": \"United States of America\"}</td>\n",
       "      <td>['buffy', 'summers', 'is', 'introduced', 'as',...</td>\n",
       "    </tr>\n",
       "  </tbody>\n",
       "</table>\n",
       "</div>"
      ],
      "text/plain": [
       "         Unnamed: 0                film_title  film_release_date  \\\n",
       "film_id                                                            \n",
       "330           61305                   Actrius               1996   \n",
       "3217          14570          Army of Darkness               1992   \n",
       "3333           2634     The Birth of a Nation               1915   \n",
       "3746          48191              Blade Runner               1982   \n",
       "3837          48856           Blazing Saddles               1974   \n",
       "3947          10005               Blue Velvet               1986   \n",
       "4227          13905              Barry Lyndon               1975   \n",
       "4231          23979  Buffy the Vampire Slayer               1992   \n",
       "\n",
       "                                             film_language  \\\n",
       "film_id                                                      \n",
       "330      {\"/m/01m69\": \"Catalan language\", \"/m/06nm1\": \"...   \n",
       "3217                    {\"/m/02h40lc\": \"English Language\"}   \n",
       "3333     {\"/m/06ppq\": \"Silent film\", \"/m/02h40lc\": \"Eng...   \n",
       "3746     {\"/m/03_9r\": \"Japanese Language\", \"/m/012w70\":...   \n",
       "3837     {\"/m/0880p\": \"Yiddish Language\", \"/m/02h40lc\":...   \n",
       "3947                    {\"/m/02h40lc\": \"English Language\"}   \n",
       "4227     {\"/m/064_8sq\": \"French Language\", \"/m/02h40lc\"...   \n",
       "4231                    {\"/m/02h40lc\": \"English Language\"}   \n",
       "\n",
       "                                              film_country  \\\n",
       "film_id                                                      \n",
       "330                                  {\"/m/06mkj\": \"Spain\"}   \n",
       "3217             {\"/m/09c7w0\": \"United States of America\"}   \n",
       "3333             {\"/m/09c7w0\": \"United States of America\"}   \n",
       "3746     {\"/m/09c7w0\": \"United States of America\", \"/m/...   \n",
       "3837             {\"/m/09c7w0\": \"United States of America\"}   \n",
       "3947             {\"/m/09c7w0\": \"United States of America\"}   \n",
       "4227     {\"/m/09c7w0\": \"United States of America\", \"/m/...   \n",
       "4231             {\"/m/09c7w0\": \"United States of America\"}   \n",
       "\n",
       "                                            film_summaries  \n",
       "film_id                                                     \n",
       "330      ['in', 'order', 'to', 'prepare', 'the', 'role'...  \n",
       "3217     ['after', 'being', 'pulled', 'through', 'a', '...  \n",
       "3333     ['the', 'film', 'follows', 'two', 'juxtaposed'...  \n",
       "3746     ['{{hatnote}}', 'in', 'los', 'angeles,', 'nove...  \n",
       "3837     ['in', 'the', 'american', 'old', 'west', 'of',...  \n",
       "3947     ['jeffrey', 'beaumont', 'returns', 'to', 'his'...  \n",
       "4227     [':by', 'what', 'means', 'redmond', 'barry', '...  \n",
       "4231     ['buffy', 'summers', 'is', 'introduced', 'as',...  "
      ]
     },
     "execution_count": 4,
     "metadata": {},
     "output_type": "execute_result"
    }
   ],
   "source": [
    "df_film.head(8)"
   ]
  },
  {
   "cell_type": "code",
   "execution_count": 53,
   "metadata": {
    "collapsed": true
   },
   "outputs": [],
   "source": [
    "## define FilmID class (need to add more)\n",
    "class FilmID:\n",
    "    def __init__(self, index, film_df, char_df):\n",
    "        self.index = index\n",
    "        self.film = film_df\n",
    "        self.char = char_df\n",
    "        \n",
    "    def getFilmInfo(self):\n",
    "        return self.film.loc[self.index]\n",
    "    \n",
    "    def getFilmChar(self):\n",
    "        return self.char.loc[self.index]\n"
   ]
  },
  {
   "cell_type": "code",
   "execution_count": 58,
   "metadata": {
    "collapsed": false
   },
   "outputs": [],
   "source": [
    "## Iterating over the rows, create an object from each, add to dictionary with index as key and object as value\n",
    "films = {}\n",
    "for idx, row in df_film.iterrows():\n",
    "    film = FilmID(idx, df_film, df_char) \n",
    "    films[idx] = film"
   ]
  },
  {
   "cell_type": "code",
   "execution_count": 70,
   "metadata": {
    "collapsed": false
   },
   "outputs": [],
   "source": [
    "test = films[4231].getFilmChar()"
   ]
  },
  {
   "cell_type": "code",
   "execution_count": 71,
   "metadata": {
    "collapsed": false
   },
   "outputs": [
    {
     "name": "stdout",
     "output_type": "stream",
     "text": [
      "<class 'pandas.core.frame.DataFrame'>\n"
     ]
    }
   ],
   "source": [
    "print(type(test))"
   ]
  },
  {
   "cell_type": "code",
   "execution_count": null,
   "metadata": {
    "collapsed": true
   },
   "outputs": [],
   "source": []
  }
 ],
 "metadata": {
  "kernelspec": {
   "display_name": "Python 3",
   "language": "python",
   "name": "python3"
  },
  "language_info": {
   "codemirror_mode": {
    "name": "ipython",
    "version": 3
   },
   "file_extension": ".py",
   "mimetype": "text/x-python",
   "name": "python",
   "nbconvert_exporter": "python",
   "pygments_lexer": "ipython3",
   "version": "3.6.0"
  }
 },
 "nbformat": 4,
 "nbformat_minor": 2
}

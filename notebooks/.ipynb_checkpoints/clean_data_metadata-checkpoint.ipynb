{
 "cells": [
  {
   "cell_type": "markdown",
   "metadata": {},
   "source": [
    "Add summaries from .txt file to dataframes"
   ]
  },
  {
   "cell_type": "code",
   "execution_count": 8,
   "metadata": {
    "collapsed": true,
    "jupyter": {
     "outputs_hidden": true
    }
   },
   "outputs": [],
   "source": [
    "import pandas as pd\n",
    "import numpy as np"
   ]
  },
  {
   "cell_type": "code",
   "execution_count": 9,
   "metadata": {
    "collapsed": false,
    "jupyter": {
     "outputs_hidden": false
    }
   },
   "outputs": [],
   "source": [
    "df_film = pd.read_csv(\"clean_data/film_data_clean.csv\", index_col = 0)\n",
    "df_char = pd.read_csv(\"clean_data/char_data_clean.csv\", index_col = 0)"
   ]
  },
  {
   "cell_type": "code",
   "execution_count": 11,
   "metadata": {
    "collapsed": false,
    "jupyter": {
     "outputs_hidden": false
    }
   },
   "outputs": [],
   "source": [
    "## sort by film ID\n",
    "df_char = df_char.sort_values(by = \"film_id\")"
   ]
  },
  {
   "cell_type": "code",
   "execution_count": 12,
   "metadata": {
    "collapsed": false,
    "jupyter": {
     "outputs_hidden": false
    }
   },
   "outputs": [
    {
     "data": {
      "text/html": [
       "<div>\n",
       "<table border=\"1\" class=\"dataframe\">\n",
       "  <thead>\n",
       "    <tr style=\"text-align: right;\">\n",
       "      <th></th>\n",
       "      <th>film_id</th>\n",
       "      <th>film_release_date</th>\n",
       "      <th>char_name</th>\n",
       "      <th>actor_gender</th>\n",
       "      <th>actor_name</th>\n",
       "      <th>actor_age</th>\n",
       "    </tr>\n",
       "  </thead>\n",
       "  <tbody>\n",
       "    <tr>\n",
       "      <th>363240</th>\n",
       "      <td>31186339</td>\n",
       "      <td>2012</td>\n",
       "      <td>Seneca Crane</td>\n",
       "      <td>M</td>\n",
       "      <td>Wes Bentley</td>\n",
       "      <td>33.0</td>\n",
       "    </tr>\n",
       "    <tr>\n",
       "      <th>363239</th>\n",
       "      <td>31186339</td>\n",
       "      <td>2012</td>\n",
       "      <td>Cinna</td>\n",
       "      <td>M</td>\n",
       "      <td>Lenny Kravitz</td>\n",
       "      <td>47.0</td>\n",
       "    </tr>\n",
       "    <tr>\n",
       "      <th>363241</th>\n",
       "      <td>31186339</td>\n",
       "      <td>2012</td>\n",
       "      <td>Rue</td>\n",
       "      <td>F</td>\n",
       "      <td>Amandla Stenberg</td>\n",
       "      <td>13.0</td>\n",
       "    </tr>\n",
       "    <tr>\n",
       "      <th>363248</th>\n",
       "      <td>31186339</td>\n",
       "      <td>2012</td>\n",
       "      <td>Game Tech</td>\n",
       "      <td>M</td>\n",
       "      <td>Eric Hennig</td>\n",
       "      <td>22.0</td>\n",
       "    </tr>\n",
       "    <tr>\n",
       "      <th>363242</th>\n",
       "      <td>31186339</td>\n",
       "      <td>2012</td>\n",
       "      <td>Glimmer</td>\n",
       "      <td>F</td>\n",
       "      <td>Leven Rambin</td>\n",
       "      <td>21.0</td>\n",
       "    </tr>\n",
       "    <tr>\n",
       "      <th>363243</th>\n",
       "      <td>31186339</td>\n",
       "      <td>2012</td>\n",
       "      <td>Claudius Templesmith</td>\n",
       "      <td>M</td>\n",
       "      <td>Toby Jones</td>\n",
       "      <td>45.0</td>\n",
       "    </tr>\n",
       "    <tr>\n",
       "      <th>363244</th>\n",
       "      <td>31186339</td>\n",
       "      <td>2012</td>\n",
       "      <td>Marvel</td>\n",
       "      <td>M</td>\n",
       "      <td>Jack Quaid</td>\n",
       "      <td>19.0</td>\n",
       "    </tr>\n",
       "    <tr>\n",
       "      <th>363245</th>\n",
       "      <td>31186339</td>\n",
       "      <td>2012</td>\n",
       "      <td>Mrs. Everdeen</td>\n",
       "      <td>F</td>\n",
       "      <td>Paula Malcomson</td>\n",
       "      <td>42.0</td>\n",
       "    </tr>\n",
       "    <tr>\n",
       "      <th>363235</th>\n",
       "      <td>31186339</td>\n",
       "      <td>2012</td>\n",
       "      <td>Caesar Flickerman</td>\n",
       "      <td>M</td>\n",
       "      <td>Stanley Tucci</td>\n",
       "      <td>51.0</td>\n",
       "    </tr>\n",
       "    <tr>\n",
       "      <th>363247</th>\n",
       "      <td>31186339</td>\n",
       "      <td>2012</td>\n",
       "      <td>Katniss' Father</td>\n",
       "      <td>M</td>\n",
       "      <td>Phillip Troy Linger</td>\n",
       "      <td>47.0</td>\n",
       "    </tr>\n",
       "    <tr>\n",
       "      <th>363232</th>\n",
       "      <td>31186339</td>\n",
       "      <td>2012</td>\n",
       "      <td>Gale Hawthorne</td>\n",
       "      <td>M</td>\n",
       "      <td>Liam Hemsworth</td>\n",
       "      <td>22.0</td>\n",
       "    </tr>\n",
       "    <tr>\n",
       "      <th>363233</th>\n",
       "      <td>31186339</td>\n",
       "      <td>2012</td>\n",
       "      <td>Haymitch Abernathy</td>\n",
       "      <td>M</td>\n",
       "      <td>Woody Harrelson</td>\n",
       "      <td>50.0</td>\n",
       "    </tr>\n",
       "    <tr>\n",
       "      <th>363231</th>\n",
       "      <td>31186339</td>\n",
       "      <td>2012</td>\n",
       "      <td>Effie Trinket</td>\n",
       "      <td>F</td>\n",
       "      <td>Elizabeth Banks</td>\n",
       "      <td>38.0</td>\n",
       "    </tr>\n",
       "    <tr>\n",
       "      <th>363238</th>\n",
       "      <td>31186339</td>\n",
       "      <td>2012</td>\n",
       "      <td>Cato</td>\n",
       "      <td>M</td>\n",
       "      <td>Alexander Ludwig</td>\n",
       "      <td>19.0</td>\n",
       "    </tr>\n",
       "    <tr>\n",
       "      <th>363229</th>\n",
       "      <td>31186339</td>\n",
       "      <td>2012</td>\n",
       "      <td>Katniss Everdeen</td>\n",
       "      <td>F</td>\n",
       "      <td>Jennifer Lawrence</td>\n",
       "      <td>21.0</td>\n",
       "    </tr>\n",
       "    <tr>\n",
       "      <th>363230</th>\n",
       "      <td>31186339</td>\n",
       "      <td>2012</td>\n",
       "      <td>Peeta Mellark</td>\n",
       "      <td>M</td>\n",
       "      <td>Josh Hutcherson</td>\n",
       "      <td>19.0</td>\n",
       "    </tr>\n",
       "    <tr>\n",
       "      <th>363234</th>\n",
       "      <td>31186339</td>\n",
       "      <td>2012</td>\n",
       "      <td>Clove</td>\n",
       "      <td>F</td>\n",
       "      <td>Isabelle Fuhrman</td>\n",
       "      <td>15.0</td>\n",
       "    </tr>\n",
       "    <tr>\n",
       "      <th>363236</th>\n",
       "      <td>31186339</td>\n",
       "      <td>2012</td>\n",
       "      <td>Primrose Everdeen</td>\n",
       "      <td>F</td>\n",
       "      <td>Willow Shields</td>\n",
       "      <td>11.0</td>\n",
       "    </tr>\n",
       "    <tr>\n",
       "      <th>363237</th>\n",
       "      <td>31186339</td>\n",
       "      <td>2012</td>\n",
       "      <td>President Snow</td>\n",
       "      <td>M</td>\n",
       "      <td>Donald Sutherland</td>\n",
       "      <td>76.0</td>\n",
       "    </tr>\n",
       "  </tbody>\n",
       "</table>\n",
       "</div>"
      ],
      "text/plain": [
       "         film_id  film_release_date             char_name actor_gender  \\\n",
       "363240  31186339               2012          Seneca Crane            M   \n",
       "363239  31186339               2012                 Cinna            M   \n",
       "363241  31186339               2012                   Rue            F   \n",
       "363248  31186339               2012             Game Tech            M   \n",
       "363242  31186339               2012               Glimmer            F   \n",
       "363243  31186339               2012  Claudius Templesmith            M   \n",
       "363244  31186339               2012                Marvel            M   \n",
       "363245  31186339               2012         Mrs. Everdeen            F   \n",
       "363235  31186339               2012     Caesar Flickerman            M   \n",
       "363247  31186339               2012       Katniss' Father            M   \n",
       "363232  31186339               2012        Gale Hawthorne            M   \n",
       "363233  31186339               2012    Haymitch Abernathy            M   \n",
       "363231  31186339               2012         Effie Trinket            F   \n",
       "363238  31186339               2012                  Cato            M   \n",
       "363229  31186339               2012      Katniss Everdeen            F   \n",
       "363230  31186339               2012         Peeta Mellark            M   \n",
       "363234  31186339               2012                 Clove            F   \n",
       "363236  31186339               2012     Primrose Everdeen            F   \n",
       "363237  31186339               2012        President Snow            M   \n",
       "\n",
       "                 actor_name  actor_age  \n",
       "363240          Wes Bentley       33.0  \n",
       "363239        Lenny Kravitz       47.0  \n",
       "363241     Amandla Stenberg       13.0  \n",
       "363248          Eric Hennig       22.0  \n",
       "363242         Leven Rambin       21.0  \n",
       "363243           Toby Jones       45.0  \n",
       "363244           Jack Quaid       19.0  \n",
       "363245      Paula Malcomson       42.0  \n",
       "363235        Stanley Tucci       51.0  \n",
       "363247  Phillip Troy Linger       47.0  \n",
       "363232       Liam Hemsworth       22.0  \n",
       "363233      Woody Harrelson       50.0  \n",
       "363231      Elizabeth Banks       38.0  \n",
       "363238     Alexander Ludwig       19.0  \n",
       "363229    Jennifer Lawrence       21.0  \n",
       "363230      Josh Hutcherson       19.0  \n",
       "363234     Isabelle Fuhrman       15.0  \n",
       "363236       Willow Shields       11.0  \n",
       "363237    Donald Sutherland       76.0  "
      ]
     },
     "execution_count": 12,
     "metadata": {},
     "output_type": "execute_result"
    }
   ],
   "source": [
    "## syntax to find film\n",
    "df_char[df_char.film_id.isin([31186339])]"
   ]
  },
  {
   "cell_type": "code",
   "execution_count": 13,
   "metadata": {
    "collapsed": false,
    "jupyter": {
     "outputs_hidden": false
    }
   },
   "outputs": [],
   "source": [
    "with open(\"plot_summaries.txt\") as f:\n",
    "    summaries = f.readlines()"
   ]
  },
  {
   "cell_type": "code",
   "execution_count": 14,
   "metadata": {
    "collapsed": false,
    "jupyter": {
     "outputs_hidden": false
    }
   },
   "outputs": [],
   "source": [
    "## split summaries into tuples of (film ID, list of strings)\n",
    "summaries = [summary.lower().split() for summary in summaries]\n",
    "summary_tuple = [(int(summary[0]), summary[1:]) for summary in summaries]"
   ]
  },
  {
   "cell_type": "code",
   "execution_count": 15,
   "metadata": {
    "collapsed": false,
    "jupyter": {
     "outputs_hidden": false
    }
   },
   "outputs": [],
   "source": [
    "indices = [int(summ[0]) for summ in summary_tuple]"
   ]
  },
  {
   "cell_type": "code",
   "execution_count": 24,
   "metadata": {
    "collapsed": false,
    "jupyter": {
     "outputs_hidden": false
    }
   },
   "outputs": [],
   "source": [
    "## syntax to find where film IDs in dataframe overlap with IDs in summaries\n",
    "## matches = set(char_film_id).intersection(indices)"
   ]
  },
  {
   "cell_type": "code",
   "execution_count": 17,
   "metadata": {
    "collapsed": false,
    "jupyter": {
     "outputs_hidden": false
    }
   },
   "outputs": [],
   "source": [
    "## create dataframes where summaries and metadata are available \n",
    "char_match_df = df_char.loc[df_char['film_id'].isin(indices)]\n",
    "film_match_df = df_film.loc[df_film['film_id'].isin(indices)]"
   ]
  },
  {
   "cell_type": "code",
   "execution_count": 18,
   "metadata": {
    "collapsed": false,
    "jupyter": {
     "outputs_hidden": false
    }
   },
   "outputs": [],
   "source": [
    "## sort by film id\n",
    "film_match_df = film_match_df.sort_values(by = \"film_id\")\n",
    "char_match_df = char_match_df.sort_values(by = \"film_id\")"
   ]
  },
  {
   "cell_type": "code",
   "execution_count": 115,
   "metadata": {
    "collapsed": false,
    "jupyter": {
     "outputs_hidden": false
    }
   },
   "outputs": [],
   "source": [
    "## convert list of tuples to dict\n",
    "summaries = dict(summary_tuple)"
   ]
  },
  {
   "cell_type": "code",
   "execution_count": 116,
   "metadata": {
    "collapsed": false,
    "jupyter": {
     "outputs_hidden": false
    }
   },
   "outputs": [],
   "source": [
    "## create list of values where key is in film_id column\n",
    "summary_list = []\n",
    "for row in film_match_df[\"film_id\"]:\n",
    "    summary_list.append(summaries[row])"
   ]
  },
  {
   "cell_type": "code",
   "execution_count": 117,
   "metadata": {
    "collapsed": false,
    "jupyter": {
     "outputs_hidden": false
    }
   },
   "outputs": [],
   "source": [
    "## add list as new column\n",
    "film_match_df[\"film_summaries\"] = summary_list"
   ]
  },
  {
   "cell_type": "code",
   "execution_count": 118,
   "metadata": {
    "collapsed": false,
    "jupyter": {
     "outputs_hidden": false
    }
   },
   "outputs": [
    {
     "data": {
      "text/html": [
       "<div>\n",
       "<table border=\"1\" class=\"dataframe\">\n",
       "  <thead>\n",
       "    <tr style=\"text-align: right;\">\n",
       "      <th></th>\n",
       "      <th>film_id</th>\n",
       "      <th>film_title</th>\n",
       "      <th>film_release_date</th>\n",
       "      <th>film_language</th>\n",
       "      <th>film_country</th>\n",
       "      <th>film_summaries</th>\n",
       "    </tr>\n",
       "  </thead>\n",
       "  <tbody>\n",
       "    <tr>\n",
       "      <th>61305</th>\n",
       "      <td>330</td>\n",
       "      <td>Actrius</td>\n",
       "      <td>1996</td>\n",
       "      <td>{\"/m/01m69\": \"Catalan language\", \"/m/06nm1\": \"...</td>\n",
       "      <td>{\"/m/06mkj\": \"Spain\"}</td>\n",
       "      <td>[in, order, to, prepare, the, role, of, an, im...</td>\n",
       "    </tr>\n",
       "    <tr>\n",
       "      <th>14570</th>\n",
       "      <td>3217</td>\n",
       "      <td>Army of Darkness</td>\n",
       "      <td>1992</td>\n",
       "      <td>{\"/m/02h40lc\": \"English Language\"}</td>\n",
       "      <td>{\"/m/09c7w0\": \"United States of America\"}</td>\n",
       "      <td>[after, being, pulled, through, a, time, porta...</td>\n",
       "    </tr>\n",
       "    <tr>\n",
       "      <th>2634</th>\n",
       "      <td>3333</td>\n",
       "      <td>The Birth of a Nation</td>\n",
       "      <td>1915</td>\n",
       "      <td>{\"/m/06ppq\": \"Silent film\", \"/m/02h40lc\": \"Eng...</td>\n",
       "      <td>{\"/m/09c7w0\": \"United States of America\"}</td>\n",
       "      <td>[the, film, follows, two, juxtaposed, families...</td>\n",
       "    </tr>\n",
       "    <tr>\n",
       "      <th>48191</th>\n",
       "      <td>3746</td>\n",
       "      <td>Blade Runner</td>\n",
       "      <td>1982</td>\n",
       "      <td>{\"/m/03_9r\": \"Japanese Language\", \"/m/012w70\":...</td>\n",
       "      <td>{\"/m/09c7w0\": \"United States of America\", \"/m/...</td>\n",
       "      <td>[{{hatnote}}, in, los, angeles,, november, 201...</td>\n",
       "    </tr>\n",
       "    <tr>\n",
       "      <th>48856</th>\n",
       "      <td>3837</td>\n",
       "      <td>Blazing Saddles</td>\n",
       "      <td>1974</td>\n",
       "      <td>{\"/m/0880p\": \"Yiddish Language\", \"/m/02h40lc\":...</td>\n",
       "      <td>{\"/m/09c7w0\": \"United States of America\"}</td>\n",
       "      <td>[in, the, american, old, west, of, 1874,, cons...</td>\n",
       "    </tr>\n",
       "    <tr>\n",
       "      <th>10005</th>\n",
       "      <td>3947</td>\n",
       "      <td>Blue Velvet</td>\n",
       "      <td>1986</td>\n",
       "      <td>{\"/m/02h40lc\": \"English Language\"}</td>\n",
       "      <td>{\"/m/09c7w0\": \"United States of America\"}</td>\n",
       "      <td>[jeffrey, beaumont, returns, to, his, logging,...</td>\n",
       "    </tr>\n",
       "    <tr>\n",
       "      <th>13905</th>\n",
       "      <td>4227</td>\n",
       "      <td>Barry Lyndon</td>\n",
       "      <td>1975</td>\n",
       "      <td>{\"/m/064_8sq\": \"French Language\", \"/m/02h40lc\"...</td>\n",
       "      <td>{\"/m/09c7w0\": \"United States of America\", \"/m/...</td>\n",
       "      <td>[:by, what, means, redmond, barry, acquired, t...</td>\n",
       "    </tr>\n",
       "    <tr>\n",
       "      <th>23979</th>\n",
       "      <td>4231</td>\n",
       "      <td>Buffy the Vampire Slayer</td>\n",
       "      <td>1992</td>\n",
       "      <td>{\"/m/02h40lc\": \"English Language\"}</td>\n",
       "      <td>{\"/m/09c7w0\": \"United States of America\"}</td>\n",
       "      <td>[buffy, summers, is, introduced, as, a, stereo...</td>\n",
       "    </tr>\n",
       "    <tr>\n",
       "      <th>73233</th>\n",
       "      <td>4560</td>\n",
       "      <td>Braveheart</td>\n",
       "      <td>1995</td>\n",
       "      <td>{\"/m/064_8sq\": \"French Language\", \"/m/04h9h\": ...</td>\n",
       "      <td>{\"/m/09c7w0\": \"United States of America\"}</td>\n",
       "      <td>[in, the, 13th, century,, after, several, year...</td>\n",
       "    </tr>\n",
       "    <tr>\n",
       "      <th>55165</th>\n",
       "      <td>4726</td>\n",
       "      <td>Batman</td>\n",
       "      <td>1989</td>\n",
       "      <td>{\"/m/064_8sq\": \"French Language\", \"/m/02h40lc\"...</td>\n",
       "      <td>{\"/m/09c7w0\": \"United States of America\", \"/m/...</td>\n",
       "      <td>[as, a, child,, bruce, wayne, witnesses, his, ...</td>\n",
       "    </tr>\n",
       "  </tbody>\n",
       "</table>\n",
       "</div>"
      ],
      "text/plain": [
       "       film_id                film_title  film_release_date  \\\n",
       "61305      330                   Actrius               1996   \n",
       "14570     3217          Army of Darkness               1992   \n",
       "2634      3333     The Birth of a Nation               1915   \n",
       "48191     3746              Blade Runner               1982   \n",
       "48856     3837           Blazing Saddles               1974   \n",
       "10005     3947               Blue Velvet               1986   \n",
       "13905     4227              Barry Lyndon               1975   \n",
       "23979     4231  Buffy the Vampire Slayer               1992   \n",
       "73233     4560                Braveheart               1995   \n",
       "55165     4726                    Batman               1989   \n",
       "\n",
       "                                           film_language  \\\n",
       "61305  {\"/m/01m69\": \"Catalan language\", \"/m/06nm1\": \"...   \n",
       "14570                 {\"/m/02h40lc\": \"English Language\"}   \n",
       "2634   {\"/m/06ppq\": \"Silent film\", \"/m/02h40lc\": \"Eng...   \n",
       "48191  {\"/m/03_9r\": \"Japanese Language\", \"/m/012w70\":...   \n",
       "48856  {\"/m/0880p\": \"Yiddish Language\", \"/m/02h40lc\":...   \n",
       "10005                 {\"/m/02h40lc\": \"English Language\"}   \n",
       "13905  {\"/m/064_8sq\": \"French Language\", \"/m/02h40lc\"...   \n",
       "23979                 {\"/m/02h40lc\": \"English Language\"}   \n",
       "73233  {\"/m/064_8sq\": \"French Language\", \"/m/04h9h\": ...   \n",
       "55165  {\"/m/064_8sq\": \"French Language\", \"/m/02h40lc\"...   \n",
       "\n",
       "                                            film_country  \\\n",
       "61305                              {\"/m/06mkj\": \"Spain\"}   \n",
       "14570          {\"/m/09c7w0\": \"United States of America\"}   \n",
       "2634           {\"/m/09c7w0\": \"United States of America\"}   \n",
       "48191  {\"/m/09c7w0\": \"United States of America\", \"/m/...   \n",
       "48856          {\"/m/09c7w0\": \"United States of America\"}   \n",
       "10005          {\"/m/09c7w0\": \"United States of America\"}   \n",
       "13905  {\"/m/09c7w0\": \"United States of America\", \"/m/...   \n",
       "23979          {\"/m/09c7w0\": \"United States of America\"}   \n",
       "73233          {\"/m/09c7w0\": \"United States of America\"}   \n",
       "55165  {\"/m/09c7w0\": \"United States of America\", \"/m/...   \n",
       "\n",
       "                                          film_summaries  \n",
       "61305  [in, order, to, prepare, the, role, of, an, im...  \n",
       "14570  [after, being, pulled, through, a, time, porta...  \n",
       "2634   [the, film, follows, two, juxtaposed, families...  \n",
       "48191  [{{hatnote}}, in, los, angeles,, november, 201...  \n",
       "48856  [in, the, american, old, west, of, 1874,, cons...  \n",
       "10005  [jeffrey, beaumont, returns, to, his, logging,...  \n",
       "13905  [:by, what, means, redmond, barry, acquired, t...  \n",
       "23979  [buffy, summers, is, introduced, as, a, stereo...  \n",
       "73233  [in, the, 13th, century,, after, several, year...  \n",
       "55165  [as, a, child,, bruce, wayne, witnesses, his, ...  "
      ]
     },
     "execution_count": 118,
     "metadata": {},
     "output_type": "execute_result"
    }
   ],
   "source": [
    "film_match_df.head(10)"
   ]
  },
  {
   "cell_type": "code",
   "execution_count": 119,
   "metadata": {
    "collapsed": false,
    "jupyter": {
     "outputs_hidden": false
    }
   },
   "outputs": [
    {
     "data": {
      "text/html": [
       "<div>\n",
       "<table border=\"1\" class=\"dataframe\">\n",
       "  <thead>\n",
       "    <tr style=\"text-align: right;\">\n",
       "      <th></th>\n",
       "      <th>film_id</th>\n",
       "      <th>film_release_date</th>\n",
       "      <th>char_name</th>\n",
       "      <th>actor_gender</th>\n",
       "      <th>actor_name</th>\n",
       "      <th>actor_age</th>\n",
       "    </tr>\n",
       "  </thead>\n",
       "  <tbody>\n",
       "    <tr>\n",
       "      <th>239901</th>\n",
       "      <td>3217</td>\n",
       "      <td>1992</td>\n",
       "      <td>Wiseman</td>\n",
       "      <td>M</td>\n",
       "      <td>Ian Abercrombie</td>\n",
       "      <td>56.0</td>\n",
       "    </tr>\n",
       "    <tr>\n",
       "      <th>239898</th>\n",
       "      <td>3217</td>\n",
       "      <td>1992</td>\n",
       "      <td>Possessed Witch</td>\n",
       "      <td>F</td>\n",
       "      <td>Patricia Tallman</td>\n",
       "      <td>35.0</td>\n",
       "    </tr>\n",
       "    <tr>\n",
       "      <th>239904</th>\n",
       "      <td>3217</td>\n",
       "      <td>1992</td>\n",
       "      <td>Lord Arthur</td>\n",
       "      <td>M</td>\n",
       "      <td>Marcus Gilbert</td>\n",
       "      <td>34.0</td>\n",
       "    </tr>\n",
       "    <tr>\n",
       "      <th>239897</th>\n",
       "      <td>3217</td>\n",
       "      <td>1992</td>\n",
       "      <td>Sheila</td>\n",
       "      <td>F</td>\n",
       "      <td>Embeth Davidtz</td>\n",
       "      <td>27.0</td>\n",
       "    </tr>\n",
       "    <tr>\n",
       "      <th>239899</th>\n",
       "      <td>3217</td>\n",
       "      <td>1992</td>\n",
       "      <td>Duke Henry the Red</td>\n",
       "      <td>M</td>\n",
       "      <td>Richard Grove</td>\n",
       "      <td>37.0</td>\n",
       "    </tr>\n",
       "    <tr>\n",
       "      <th>239896</th>\n",
       "      <td>3217</td>\n",
       "      <td>1992</td>\n",
       "      <td>Linda</td>\n",
       "      <td>F</td>\n",
       "      <td>Bridget Fonda</td>\n",
       "      <td>28.0</td>\n",
       "    </tr>\n",
       "    <tr>\n",
       "      <th>239900</th>\n",
       "      <td>3217</td>\n",
       "      <td>1992</td>\n",
       "      <td>Second Supportive Villager</td>\n",
       "      <td>M</td>\n",
       "      <td>Ted Raimi</td>\n",
       "      <td>26.0</td>\n",
       "    </tr>\n",
       "    <tr>\n",
       "      <th>239892</th>\n",
       "      <td>3217</td>\n",
       "      <td>1992</td>\n",
       "      <td>Fake shemp</td>\n",
       "      <td>M</td>\n",
       "      <td>Ivan Raimi</td>\n",
       "      <td>36.0</td>\n",
       "    </tr>\n",
       "    <tr>\n",
       "      <th>239893</th>\n",
       "      <td>3217</td>\n",
       "      <td>1992</td>\n",
       "      <td>Ash Williams</td>\n",
       "      <td>M</td>\n",
       "      <td>Bruce Campbell</td>\n",
       "      <td>34.0</td>\n",
       "    </tr>\n",
       "    <tr>\n",
       "      <th>239894</th>\n",
       "      <td>3217</td>\n",
       "      <td>1992</td>\n",
       "      <td>Evil Ash</td>\n",
       "      <td>M</td>\n",
       "      <td>Bruce Campbell</td>\n",
       "      <td>34.0</td>\n",
       "    </tr>\n",
       "  </tbody>\n",
       "</table>\n",
       "</div>"
      ],
      "text/plain": [
       "        film_id  film_release_date                   char_name actor_gender  \\\n",
       "239901     3217               1992                     Wiseman            M   \n",
       "239898     3217               1992             Possessed Witch            F   \n",
       "239904     3217               1992                 Lord Arthur            M   \n",
       "239897     3217               1992                      Sheila            F   \n",
       "239899     3217               1992          Duke Henry the Red            M   \n",
       "239896     3217               1992                       Linda            F   \n",
       "239900     3217               1992  Second Supportive Villager            M   \n",
       "239892     3217               1992                  Fake shemp            M   \n",
       "239893     3217               1992                Ash Williams            M   \n",
       "239894     3217               1992                    Evil Ash            M   \n",
       "\n",
       "              actor_name  actor_age  \n",
       "239901   Ian Abercrombie       56.0  \n",
       "239898  Patricia Tallman       35.0  \n",
       "239904    Marcus Gilbert       34.0  \n",
       "239897    Embeth Davidtz       27.0  \n",
       "239899     Richard Grove       37.0  \n",
       "239896     Bridget Fonda       28.0  \n",
       "239900         Ted Raimi       26.0  \n",
       "239892        Ivan Raimi       36.0  \n",
       "239893    Bruce Campbell       34.0  \n",
       "239894    Bruce Campbell       34.0  "
      ]
     },
     "execution_count": 119,
     "metadata": {},
     "output_type": "execute_result"
    }
   ],
   "source": [
    "char_match_df.head(10)"
   ]
  },
  {
   "cell_type": "code",
   "execution_count": 122,
   "metadata": {
    "collapsed": false,
    "jupyter": {
     "outputs_hidden": false
    }
   },
   "outputs": [],
   "source": [
    "film_match_df.to_csv(\"film_data_clean.csv\")"
   ]
  },
  {
   "cell_type": "code",
   "execution_count": 123,
   "metadata": {
    "collapsed": true,
    "jupyter": {
     "outputs_hidden": true
    }
   },
   "outputs": [],
   "source": [
    "char_match_df.to_csv(\"char_data_clean.csv\")"
   ]
  },
  {
   "cell_type": "code",
   "execution_count": null,
   "metadata": {
    "collapsed": true,
    "jupyter": {
     "outputs_hidden": true
    }
   },
   "outputs": [],
   "source": []
  }
 ],
 "metadata": {
  "kernelspec": {
   "display_name": "Python 3 (ipykernel)",
   "language": "python",
   "name": "python3"
  },
  "language_info": {
   "codemirror_mode": {
    "name": "ipython",
    "version": 3
   },
   "file_extension": ".py",
   "mimetype": "text/x-python",
   "name": "python",
   "nbconvert_exporter": "python",
   "pygments_lexer": "ipython3",
   "version": "3.13.2"
  }
 },
 "nbformat": 4,
 "nbformat_minor": 4
}

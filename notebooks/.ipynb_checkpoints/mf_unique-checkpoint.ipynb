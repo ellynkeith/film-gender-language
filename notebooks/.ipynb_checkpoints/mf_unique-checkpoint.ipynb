{
 "cells": [
  {
   "cell_type": "markdown",
   "metadata": {},
   "source": [
    "Find unique and shared words minus stopwords in top words"
   ]
  },
  {
   "cell_type": "code",
   "execution_count": 45,
   "metadata": {},
   "outputs": [],
   "source": [
    "import csv\n",
    "import nltk\n",
    "from nltk.corpus import stopwords\n",
    "import re\n",
    "import pandas as pd"
   ]
  },
  {
   "cell_type": "code",
   "execution_count": 63,
   "metadata": {
    "collapsed": false,
    "jupyter": {
     "outputs_hidden": false
    }
   },
   "outputs": [],
   "source": [
    "with open(\"clean_data/f_words_clean.csv\") as file:\n",
    "    f = file.readlines()   \n",
    "\n",
    "with open(\"clean_data/m_words_clean.csv\") as file:\n",
    "    m = file.readlines()    "
   ]
  },
  {
   "cell_type": "code",
   "execution_count": 66,
   "metadata": {
    "collapsed": false,
    "jupyter": {
     "outputs_hidden": false
    }
   },
   "outputs": [],
   "source": [
    "f = [line.strip(\"\\n\").split(\",\") for line in f]\n",
    "m = [line.strip(\"\\n\").split(\",\") for line in m]"
   ]
  },
  {
   "cell_type": "code",
   "execution_count": 67,
   "metadata": {
    "collapsed": false,
    "jupyter": {
     "outputs_hidden": false
    }
   },
   "outputs": [
    {
     "name": "stdout",
     "output_type": "stream",
     "text": [
      "361 528\n"
     ]
    }
   ],
   "source": [
    "f,m = f[0::2], m[0::2]\n",
    "print(len(f), len(m))"
   ]
  },
  {
   "cell_type": "code",
   "execution_count": 73,
   "metadata": {
    "collapsed": false,
    "jupyter": {
     "outputs_hidden": false
    }
   },
   "outputs": [],
   "source": [
    "m = [[i for i in line if len(re.findall(r\"\\w\", i)) > 0] for line in m]"
   ]
  },
  {
   "cell_type": "code",
   "execution_count": 76,
   "metadata": {},
   "outputs": [],
   "source": [
    "m = [i for i in m if len(i) == 3]"
   ]
  },
  {
   "cell_type": "code",
   "execution_count": 81,
   "metadata": {
    "collapsed": false,
    "jupyter": {
     "outputs_hidden": false
    }
   },
   "outputs": [],
   "source": [
    "m.sort(key=lambda tup: tup[2], reverse=True)\n",
    "f.sort(key=lambda tup: tup[2], reverse=True)"
   ]
  },
  {
   "cell_type": "code",
   "execution_count": 99,
   "metadata": {
    "collapsed": false,
    "jupyter": {
     "outputs_hidden": false
    }
   },
   "outputs": [
    {
     "name": "stdout",
     "output_type": "stream",
     "text": [
      "[('gentleman', 'NN', '\"0.659480428897119'), ('man', 'NN', '\"0.572143010039916'), ('man', 'NN-HL', '\"0.572143010039916')] \n",
      " [('woman', 'VB', '\"0.66282005430008'), ('woman', 'NN', '\"0.66282005430008'), ('hers', 'PP$$', '\"0.65844990423138')]\n"
     ]
    }
   ],
   "source": [
    "m_tup, f_tup = [tuple(i) for i in m], [tuple(i) for i in f]\n",
    "print(m_tup[:3],\"\\n\", f_tup[:3])"
   ]
  },
  {
   "cell_type": "code",
   "execution_count": 128,
   "metadata": {
    "collapsed": false,
    "jupyter": {
     "outputs_hidden": false
    }
   },
   "outputs": [],
   "source": [
    "shared_words_m = []\n",
    "shared_words_f = []\n",
    "for tup_m in m_tup:\n",
    "    for tup_f in f_tup:\n",
    "        if tup_m[0] == tup_f[0]:\n",
    "            shared_words_m.append(tup_m)\n",
    "            shared_words_f.append(tup_f)"
   ]
  },
  {
   "cell_type": "code",
   "execution_count": 129,
   "metadata": {
    "collapsed": false,
    "jupyter": {
     "outputs_hidden": false
    }
   },
   "outputs": [
    {
     "name": "stdout",
     "output_type": "stream",
     "text": [
      "172 172\n"
     ]
    }
   ],
   "source": [
    "print(len(shared_words_m), len(shared_words_f))"
   ]
  },
  {
   "cell_type": "code",
   "execution_count": 132,
   "metadata": {
    "collapsed": false,
    "jupyter": {
     "outputs_hidden": false
    }
   },
   "outputs": [
    {
     "name": "stdout",
     "output_type": "stream",
     "text": [
      "227 113\n"
     ]
    }
   ],
   "source": [
    "unique_words_f = [i for i in f_tup if i not in shared_words_f]\n",
    "unique_words_m = [i for i in m_tup if i not in shared_words_m]\n",
    "print(len(unique_words_m), len(unique_words_f))"
   ]
  },
  {
   "cell_type": "code",
   "execution_count": 133,
   "metadata": {
    "collapsed": false,
    "jupyter": {
     "outputs_hidden": false
    }
   },
   "outputs": [
    {
     "data": {
      "text/plain": [
       "111"
      ]
     },
     "execution_count": 133,
     "metadata": {},
     "output_type": "execute_result"
    }
   ],
   "source": [
    "f_unique = [word for word in unique_words_f if word[0] not in stopwords.words(\"english\")]\n",
    "len(f_unique)"
   ]
  },
  {
   "cell_type": "code",
   "execution_count": 134,
   "metadata": {},
   "outputs": [],
   "source": [
    "m_unique = [word for word in unique_words_m if word[0] not in stopwords.words(\"english\")]"
   ]
  },
  {
   "cell_type": "code",
   "execution_count": 140,
   "metadata": {
    "collapsed": false,
    "jupyter": {
     "outputs_hidden": false
    }
   },
   "outputs": [],
   "source": [
    "f_shared = [word for word in shared_words_f if word[0] not in stopwords.words(\"english\")]\n",
    "m_shared = [word for word in shared_words_m if word[0] not in stopwords.words(\"english\")]"
   ]
  },
  {
   "cell_type": "code",
   "execution_count": 142,
   "metadata": {
    "collapsed": false,
    "jupyter": {
     "outputs_hidden": false
    }
   },
   "outputs": [
    {
     "data": {
      "text/plain": [
       "134"
      ]
     },
     "execution_count": 142,
     "metadata": {},
     "output_type": "execute_result"
    }
   ],
   "source": [
    "len(m_shared)"
   ]
  },
  {
   "cell_type": "code",
   "execution_count": 143,
   "metadata": {},
   "outputs": [],
   "source": [
    "m_unique.to_csv(\"clean_data/m_words_unique.csv\", \"w\") as csv_file:\n",
    "        writer = csv.writer(csv_file, delimiter=',')\n",
    "        for line in m_unique:\n",
    "            writer.writerow(line)"
   ]
  },
  {
   "cell_type": "code",
   "execution_count": 144,
   "metadata": {
    "collapsed": false,
    "jupyter": {
     "outputs_hidden": false
    }
   },
   "outputs": [],
   "source": [
    "with open(\"clean_data/w_words_unique.csv\", \"w\") as csv_file:\n",
    "        writer = csv.writer(csv_file, delimiter=',')\n",
    "        for line in f_unique:\n",
    "            writer.writerow(line)"
   ]
  },
  {
   "cell_type": "code",
   "execution_count": 145,
   "metadata": {},
   "outputs": [],
   "source": [
    "with open(\"clean_data/m_words_shared.csv\", \"w\") as csv_file:\n",
    "        writer = csv.writer(csv_file, delimiter=',')\n",
    "        for line in m_shared:\n",
    "            writer.writerow(line)\n",
    "            \n",
    "with open(\"clean_data/f_words_shared.csv\", \"w\") as csv_file:\n",
    "        writer = csv.writer(csv_file, delimiter=',')\n",
    "        for line in f_shared:\n",
    "            writer.writerow(line)"
   ]
  }
 ],
 "metadata": {
  "kernelspec": {
   "display_name": "Python 3 (ipykernel)",
   "language": "python",
   "name": "python3"
  },
  "language_info": {
   "codemirror_mode": {
    "name": "ipython",
    "version": 3
   },
   "file_extension": ".py",
   "mimetype": "text/x-python",
   "name": "python",
   "nbconvert_exporter": "python",
   "pygments_lexer": "ipython3",
   "version": "3.13.2"
  }
 },
 "nbformat": 4,
 "nbformat_minor": 4
}

{
 "cells": [
  {
   "cell_type": "markdown",
   "metadata": {},
   "source": [
    "Playing around with data processed through Stanford's coreNLP toolkit -- didn't end up getting used in final"
   ]
  },
  {
   "cell_type": "code",
   "execution_count": 1,
   "metadata": {
    "collapsed": false,
    "jupyter": {
     "outputs_hidden": false
    }
   },
   "outputs": [],
   "source": [
    "from bs4 import BeautifulSoup\n",
    "import os.path\n",
    "import gzip"
   ]
  },
  {
   "cell_type": "code",
   "execution_count": 3,
   "metadata": {
    "collapsed": false,
    "jupyter": {
     "outputs_hidden": false
    }
   },
   "outputs": [],
   "source": [
    "## function to extract dependencies from each xml file in directory\n",
    "def extract(directory):\n",
    "    dependencies = []\n",
    "    for file in os.listdir(directory):\n",
    "        if file.endswith('.xml'):\n",
    "        ## filename is film id\n",
    "            film_id = os.path.splitext(file)[0]\n",
    "            with open(directory+'/'+file) as f:\n",
    "                data=f.read()\n",
    "            soup = BeautifulSoup(data, 'lxml')\n",
    "#        parse = soup.find('parse')\n",
    "            deps = soup.find_all('dep')\n",
    "        ## list comprehension to extract certain types of dependencies\n",
    "            amod = [d for d in deps if d.get('type') == 'amod']\n",
    "        ## append tuple of film id and dependencies to list\n",
    "            dependencies.append((film_id, amod))\n",
    "    return dependencies"
   ]
  },
  {
   "cell_type": "code",
   "execution_count": 5,
   "metadata": {
    "collapsed": false,
    "jupyter": {
     "outputs_hidden": false
    }
   },
   "outputs": [],
   "source": [
    "## seperately--with one xml file\n",
    "with open('corenlp_plot_summaries/4231.xml') as f:\n",
    "    data=f.read()\n",
    "soup = BeautifulSoup(data, 'lxml')\n",
    "parse = soup.find_all('parse')"
   ]
  },
  {
   "cell_type": "code",
   "execution_count": null,
   "metadata": {
    "collapsed": false,
    "jupyter": {
     "outputs_hidden": false
    }
   },
   "outputs": [],
   "source": [
    "soup.find_all(\"parse\")"
   ]
  },
  {
   "cell_type": "code",
   "execution_count": null,
   "metadata": {
    "collapsed": false,
    "jupyter": {
     "outputs_hidden": false
    }
   },
   "outputs": [],
   "source": [
    "print(soup.find_all('coreference'))"
   ]
  }
 ],
 "metadata": {
  "kernelspec": {
   "display_name": "Python 3 (ipykernel)",
   "language": "python",
   "name": "python3"
  },
  "language_info": {
   "codemirror_mode": {
    "name": "ipython",
    "version": 3
   },
   "file_extension": ".py",
   "mimetype": "text/x-python",
   "name": "python",
   "nbconvert_exporter": "python",
   "pygments_lexer": "ipython3",
   "version": "3.13.2"
  }
 },
 "nbformat": 4,
 "nbformat_minor": 4
}

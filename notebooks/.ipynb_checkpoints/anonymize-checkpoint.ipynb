{
 "cells": [
  {
   "cell_type": "code",
   "execution_count": 1,
   "metadata": {},
   "outputs": [],
   "source": [
    "import pandas as pd"
   ]
  },
  {
   "cell_type": "code",
   "execution_count": 65,
   "metadata": {},
   "outputs": [
    {
     "name": "stdout",
     "output_type": "stream",
     "text": [
      "{0: 'A', 1: 'B', 2: 'C', 3: 'D', 4: 'E', 5: 'F', 6: 'G', 7: 'H', 8: 'I', 9: 'J', 10: 'K', 11: 'L', 12: 'M', 13: 'N', 14: 'O', 15: 'P', 16: 'Q', 17: 'R', 18: 'S', 19: 'T', 20: 'U', 21: 'V', 22: 'W', 23: 'X', 24: 'Y', 25: 'Z'}\n"
     ]
    }
   ],
   "source": [
    "num_map = dict()\n",
    "for number in range(26):\n",
    "    num_map[number] = chr(ord('A')+number)\n",
    "print(num_map)"
   ]
  },
  {
   "cell_type": "code",
   "execution_count": 66,
   "metadata": {},
   "outputs": [],
   "source": [
    "def anonymize(feat_name, letters=True):\n",
    "    feat_set = {v for v in df[feat_name] if v == v}\n",
    "    print(feat_name, len(feat_set))\n",
    "    \n",
    "    feat_map = dict()\n",
    "    for i, j in enumerate(feat_set):\n",
    "        if letters:\n",
    "            feat_map[j] = num_map[i]\n",
    "        else:\n",
    "            feat_map[j] = i\n",
    "        \n",
    "    df[feat_name] = df[feat_name].map(feat_map)\n",
    "        \n",
    "    \n",
    "    "
   ]
  },
  {
   "cell_type": "code",
   "execution_count": 67,
   "metadata": {},
   "outputs": [],
   "source": [
    "df = pd.read_excel(\"anonymized_data.xlsx\")"
   ]
  },
  {
   "cell_type": "code",
   "execution_count": 68,
   "metadata": {},
   "outputs": [
    {
     "name": "stdout",
     "output_type": "stream",
     "text": [
      "feat_12 2\n",
      "feat_13 11\n",
      "feat_18 1\n",
      "feat_19 5\n"
     ]
    }
   ],
   "source": [
    "for feat in [\"feat_12\", \"feat_13\", \"feat_18\", \"feat_19\"]:\n",
    "    anonymize(feat)"
   ]
  },
  {
   "cell_type": "code",
   "execution_count": 70,
   "metadata": {},
   "outputs": [
    {
     "name": "stdout",
     "output_type": "stream",
     "text": [
      "feat_16 67\n"
     ]
    }
   ],
   "source": [
    "anonymize(\"feat_16\", False)"
   ]
  },
  {
   "cell_type": "code",
   "execution_count": 71,
   "metadata": {},
   "outputs": [
    {
     "data": {
      "text/html": [
       "<div>\n",
       "<style scoped>\n",
       "    .dataframe tbody tr th:only-of-type {\n",
       "        vertical-align: middle;\n",
       "    }\n",
       "\n",
       "    .dataframe tbody tr th {\n",
       "        vertical-align: top;\n",
       "    }\n",
       "\n",
       "    .dataframe thead th {\n",
       "        text-align: right;\n",
       "    }\n",
       "</style>\n",
       "<table border=\"1\" class=\"dataframe\">\n",
       "  <thead>\n",
       "    <tr style=\"text-align: right;\">\n",
       "      <th></th>\n",
       "      <th>feat_1</th>\n",
       "      <th>feat_2</th>\n",
       "      <th>feat_3</th>\n",
       "      <th>feat_4</th>\n",
       "      <th>feat_5</th>\n",
       "      <th>feat_6</th>\n",
       "      <th>feat_7</th>\n",
       "      <th>feat_8</th>\n",
       "      <th>feat_9</th>\n",
       "      <th>feat_10</th>\n",
       "      <th>feat_11</th>\n",
       "      <th>feat_12</th>\n",
       "      <th>feat_13</th>\n",
       "      <th>feat_14</th>\n",
       "      <th>feat_15</th>\n",
       "      <th>feat_16</th>\n",
       "      <th>feat_17</th>\n",
       "      <th>feat_18</th>\n",
       "      <th>feat_19</th>\n",
       "      <th>feat_20</th>\n",
       "    </tr>\n",
       "  </thead>\n",
       "  <tbody>\n",
       "    <tr>\n",
       "      <th>0</th>\n",
       "      <td>1.0</td>\n",
       "      <td>1.0</td>\n",
       "      <td>1.0</td>\n",
       "      <td>1.0</td>\n",
       "      <td>0</td>\n",
       "      <td>0.0</td>\n",
       "      <td>1.0</td>\n",
       "      <td>1.0</td>\n",
       "      <td>0.0</td>\n",
       "      <td>0.0</td>\n",
       "      <td>26.0</td>\n",
       "      <td>A</td>\n",
       "      <td>J</td>\n",
       "      <td>no</td>\n",
       "      <td>no</td>\n",
       "      <td>41.0</td>\n",
       "      <td>no</td>\n",
       "      <td>A</td>\n",
       "      <td>B</td>\n",
       "      <td>NO</td>\n",
       "    </tr>\n",
       "    <tr>\n",
       "      <th>1</th>\n",
       "      <td>1.0</td>\n",
       "      <td>1.0</td>\n",
       "      <td>0.0</td>\n",
       "      <td>1.0</td>\n",
       "      <td>0</td>\n",
       "      <td>0.0</td>\n",
       "      <td>0.0</td>\n",
       "      <td>1.0</td>\n",
       "      <td>0.0</td>\n",
       "      <td>1.0</td>\n",
       "      <td>24.0</td>\n",
       "      <td>B</td>\n",
       "      <td>D</td>\n",
       "      <td>no</td>\n",
       "      <td>yes</td>\n",
       "      <td>12.0</td>\n",
       "      <td>no</td>\n",
       "      <td>A</td>\n",
       "      <td>B</td>\n",
       "      <td>NO</td>\n",
       "    </tr>\n",
       "    <tr>\n",
       "      <th>2</th>\n",
       "      <td>1.0</td>\n",
       "      <td>1.0</td>\n",
       "      <td>0.0</td>\n",
       "      <td>1.0</td>\n",
       "      <td>1</td>\n",
       "      <td>0.0</td>\n",
       "      <td>1.0</td>\n",
       "      <td>1.0</td>\n",
       "      <td>1.0</td>\n",
       "      <td>1.0</td>\n",
       "      <td>27.0</td>\n",
       "      <td>B</td>\n",
       "      <td>D</td>\n",
       "      <td>yes</td>\n",
       "      <td>yes</td>\n",
       "      <td>24.0</td>\n",
       "      <td>no</td>\n",
       "      <td>A</td>\n",
       "      <td>A</td>\n",
       "      <td>YES</td>\n",
       "    </tr>\n",
       "    <tr>\n",
       "      <th>3</th>\n",
       "      <td>1.0</td>\n",
       "      <td>1.0</td>\n",
       "      <td>0.0</td>\n",
       "      <td>1.0</td>\n",
       "      <td>0</td>\n",
       "      <td>0.0</td>\n",
       "      <td>1.0</td>\n",
       "      <td>1.0</td>\n",
       "      <td>0.0</td>\n",
       "      <td>1.0</td>\n",
       "      <td>35.0</td>\n",
       "      <td>A</td>\n",
       "      <td>J</td>\n",
       "      <td>no</td>\n",
       "      <td>yes</td>\n",
       "      <td>41.0</td>\n",
       "      <td>no</td>\n",
       "      <td>A</td>\n",
       "      <td>B</td>\n",
       "      <td>NO</td>\n",
       "    </tr>\n",
       "    <tr>\n",
       "      <th>4</th>\n",
       "      <td>1.0</td>\n",
       "      <td>0.0</td>\n",
       "      <td>0.0</td>\n",
       "      <td>0.0</td>\n",
       "      <td>0</td>\n",
       "      <td>0.0</td>\n",
       "      <td>0.0</td>\n",
       "      <td>1.0</td>\n",
       "      <td>0.0</td>\n",
       "      <td>0.0</td>\n",
       "      <td>40.0</td>\n",
       "      <td>A</td>\n",
       "      <td>NaN</td>\n",
       "      <td>no</td>\n",
       "      <td>no</td>\n",
       "      <td>63.0</td>\n",
       "      <td>no</td>\n",
       "      <td>A</td>\n",
       "      <td>NaN</td>\n",
       "      <td>NO</td>\n",
       "    </tr>\n",
       "  </tbody>\n",
       "</table>\n",
       "</div>"
      ],
      "text/plain": [
       "   feat_1  feat_2  feat_3  feat_4  feat_5  feat_6  feat_7  feat_8  feat_9  \\\n",
       "0     1.0     1.0     1.0     1.0       0     0.0     1.0     1.0     0.0   \n",
       "1     1.0     1.0     0.0     1.0       0     0.0     0.0     1.0     0.0   \n",
       "2     1.0     1.0     0.0     1.0       1     0.0     1.0     1.0     1.0   \n",
       "3     1.0     1.0     0.0     1.0       0     0.0     1.0     1.0     0.0   \n",
       "4     1.0     0.0     0.0     0.0       0     0.0     0.0     1.0     0.0   \n",
       "\n",
       "   feat_10  feat_11 feat_12 feat_13 feat_14 feat_15  feat_16 feat_17 feat_18  \\\n",
       "0      0.0     26.0       A       J      no      no     41.0      no       A   \n",
       "1      1.0     24.0       B       D      no     yes     12.0      no       A   \n",
       "2      1.0     27.0       B       D     yes     yes     24.0      no       A   \n",
       "3      1.0     35.0       A       J      no     yes     41.0      no       A   \n",
       "4      0.0     40.0       A     NaN      no      no     63.0      no       A   \n",
       "\n",
       "  feat_19 feat_20  \n",
       "0       B      NO  \n",
       "1       B      NO  \n",
       "2       A     YES  \n",
       "3       B      NO  \n",
       "4     NaN      NO  "
      ]
     },
     "execution_count": 71,
     "metadata": {},
     "output_type": "execute_result"
    }
   ],
   "source": [
    "df.head()"
   ]
  },
  {
   "cell_type": "code",
   "execution_count": 72,
   "metadata": {},
   "outputs": [],
   "source": [
    "df.to_csv(\"anonymized_data.csv\")"
   ]
  },
  {
   "cell_type": "code",
   "execution_count": null,
   "metadata": {},
   "outputs": [],
   "source": []
  }
 ],
 "metadata": {
  "kernelspec": {
   "display_name": "Python 3",
   "language": "python",
   "name": "python3"
  },
  "language_info": {
   "codemirror_mode": {
    "name": "ipython",
    "version": 3
   },
   "file_extension": ".py",
   "mimetype": "text/x-python",
   "name": "python",
   "nbconvert_exporter": "python",
   "pygments_lexer": "ipython3",
   "version": "3.6.4"
  }
 },
 "nbformat": 4,
 "nbformat_minor": 2
}

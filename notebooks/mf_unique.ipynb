{
 "cells": [
  {
   "cell_type": "code",
   "execution_count": 45,
   "metadata": {
    "collapsed": true
   },
   "outputs": [],
   "source": [
    "import csv\n",
    "import nltk\n",
    "from nltk.corpus import stopwords\n",
    "import re"
   ]
  },
  {
   "cell_type": "code",
   "execution_count": 63,
   "metadata": {
    "collapsed": false
   },
   "outputs": [],
   "source": [
    "with open(\"clean_data/f_words_clean.csv\") as file:\n",
    "    f = file.readlines()    "
   ]
  },
  {
   "cell_type": "code",
   "execution_count": 65,
   "metadata": {
    "collapsed": false
   },
   "outputs": [],
   "source": [
    "with open(\"clean_data/m_words_clean.csv\") as file:\n",
    "    m = file.readlines()"
   ]
  },
  {
   "cell_type": "code",
   "execution_count": 48,
   "metadata": {
    "collapsed": false
   },
   "outputs": [
    {
     "data": {
      "text/plain": [
       "721"
      ]
     },
     "execution_count": 48,
     "metadata": {},
     "output_type": "execute_result"
    }
   ],
   "source": [
    "len(f)"
   ]
  },
  {
   "cell_type": "code",
   "execution_count": 51,
   "metadata": {
    "collapsed": false
   },
   "outputs": [
    {
     "data": {
      "text/plain": [
       "str"
      ]
     },
     "execution_count": 51,
     "metadata": {},
     "output_type": "execute_result"
    }
   ],
   "source": [
    "type(f[0])"
   ]
  },
  {
   "cell_type": "code",
   "execution_count": 66,
   "metadata": {
    "collapsed": false
   },
   "outputs": [],
   "source": [
    "f,m = [line.strip(\"\\n\").split(\",\") for line in f], [line.strip(\"\\n\").split(\",\") for line in m]"
   ]
  },
  {
   "cell_type": "code",
   "execution_count": 67,
   "metadata": {
    "collapsed": false
   },
   "outputs": [
    {
     "name": "stdout",
     "output_type": "stream",
     "text": [
      "361 528\n"
     ]
    }
   ],
   "source": [
    "f,m = f[0::2], m[0::2]\n",
    "print(len(f), len(m))"
   ]
  },
  {
   "cell_type": "code",
   "execution_count": 73,
   "metadata": {
    "collapsed": false
   },
   "outputs": [],
   "source": [
    "m = [[i for i in line if len(re.findall(r\"\\w\", i)) > 0] for line in m]"
   ]
  },
  {
   "cell_type": "code",
   "execution_count": 75,
   "metadata": {
    "collapsed": false
   },
   "outputs": [
    {
     "data": {
      "text/plain": [
       "[['threadbare', 'JJ', '\"0.1977017846994'],\n",
       " ['a', 'NN', '\"0.316285797623811'],\n",
       " ['invalid', 'JJ', '\"0.174703280402911'],\n",
       " ['an', 'NIL', '\"0.269976246128858'],\n",
       " ['of', 'IN', '\"0.242163063461057'],\n",
       " ['then', 'JJ', '\"0.256457653005674'],\n",
       " ['nobleman', 'NN', '\"0.215587585463849'],\n",
       " ['out', 'IN-HL', '\"0.209825153037664'],\n",
       " ['Wednesday', 'NR', '\"0.175144592727481'],\n",
       " ['yet', 'RB', '\"0.198631397427601'],\n",
       " ['that', 'CS-HL', '\"0.301816880550788'],\n",
       " ['courtesan', 'NN', '\"0.205116103525331'],\n",
       " ['kid', 'VB', '\"0.236513949365697'],\n",
       " ['nice', 'RB', '\"0.190404764201265'],\n",
       " ['from', 'IN', '\"0.243737604006137'],\n",
       " ['it', 'PPO-HL', '\"0.257678966279853'],\n",
       " ['out', 'PP$', '\"0.209825153037664'],\n",
       " ['forever', 'RB', '\"0.226307215702478'],\n",
       " ['English', 'JJ', '\"0.206183668772948'],\n",
       " ['little', 'AP', '\"0.214311569345519'],\n",
       " ['apprenticed', 'VBN', '\"0.181322465492887'],\n",
       " ['him', 'PPO', '\"0.547100530853242'],\n",
       " ['redheaded', 'JJ', '\"0.192812030689853'],\n",
       " ['he', 'NIL', '\"0.204115013781813'],\n",
       " ['talkative', 'JJ', '\"0.183723210113438'],\n",
       " ['shacked', 'VBN', '\"0.199410041788305'],\n",
       " ['English', 'JJ-TL', '\"0.206183668772948'],\n",
       " ['parent', 'NN', '\"0.186631894445175'],\n",
       " ['policeman', 'NN', '\"0.253088756208462'],\n",
       " ['that', 'CS', '\"0.301816880550788'],\n",
       " ['shiftless', 'JJ', '\"0.194162861995818'],\n",
       " ['at', 'IN-HL', '\"0.240371784163876'],\n",
       " ['do-gooder', 'NN', '\"0.202339719390686'],\n",
       " ['in', 'RP', '\"0.302935017515629'],\n",
       " ['gentleman', 'NN', '\"0.25438526716534'],\n",
       " ['tastes', 'NNS', '\"0.181792451987679'],\n",
       " ['acquaintance', 'NN', '\"0.195774706946593'],\n",
       " ['in', 'IN-NC', '\"0.302935017515629'],\n",
       " ['businessman', 'NN', '\"0.229530091491643'],\n",
       " ['with', 'IN', '\"0.289696606598886'],\n",
       " ['widower', 'NN', '\"0.17595392769303'],\n",
       " ['boy', 'NN', '\"0.540706008024567'],\n",
       " ['about', 'RP', '\"0.230609624330675'],\n",
       " ['by', 'IN-TL', '\"0.249197189440925'],\n",
       " ['as', 'CS-HL', '\"0.26821155534825'],\n",
       " ['impaired', 'VBN', '\"0.218784103900598'],\n",
       " ['honest', 'JJ', '\"0.176872061454261'],\n",
       " ['guy', 'NN', '\"0.220553940635393'],\n",
       " ['for', 'IN-TL', '\"0.28545948477219'],\n",
       " ['guy', 'VB', '\"0.320439859748168'],\n",
       " ['charming', 'JJ', '\"0.244171705719328'],\n",
       " ['a', 'AT-TL', '\"0.316285797623811'],\n",
       " ['out', 'RP-HL', '\"0.209825153037664'],\n",
       " ['lower-middle-class', 'NN', '\"0.176363455323964'],\n",
       " ['claims', 'NNS', '\"0.222632836512458'],\n",
       " ['wealthy', 'JJ', '\"0.211043409602244'],\n",
       " ['an', 'AT-NC', '\"0.269976246128858'],\n",
       " ['wise', 'JJ', '\"0.174926369065112'],\n",
       " ['idealistic', 'JJ', '\"0.207630970142289'],\n",
       " ['grandfather', 'NN', '\"0.226392830975438'],\n",
       " ['after', 'RB', '\"0.211663195681566'],\n",
       " ['boy', 'NN-HL', '\"0.317946332956607'],\n",
       " ['but', 'IN', '\"0.316337390283557'],\n",
       " ['nurse', 'NN', '\"0.180103184065247'],\n",
       " ['NIL', '\"0.243181470078035'],\n",
       " ['it', 'PPS-HL', '\"0.257678966279853'],\n",
       " ['is', 'BEZ', '\"0.30882992023715'],\n",
       " ['noble', 'JJ', '\"0.205755438048175'],\n",
       " ['poet', 'NN', '\"0.191914028520286'],\n",
       " ['chap', 'NN', '\"0.218263505683457'],\n",
       " ['has', 'NIL', '\"0.296093275699304'],\n",
       " ['of', 'IN-TL', '\"0.242163063461057'],\n",
       " ['guy', 'NN', '\"0.320439859748168'],\n",
       " ['widow', 'NN', '\"0.226558431956728'],\n",
       " ['that', 'WPO-NC', '\"0.301816880550788'],\n",
       " ['it', 'PPS-NC', '\"0.257678966279853'],\n",
       " ['a', 'FW-IN', '\"0.316285797623811'],\n",
       " ['about', 'IN-HL', '\"0.230609624330675'],\n",
       " ['ma', 'NN'],\n",
       " [],\n",
       " [],\n",
       " [],\n",
       " [],\n",
       " [],\n",
       " [],\n",
       " [],\n",
       " [],\n",
       " [],\n",
       " [],\n",
       " [],\n",
       " [],\n",
       " [],\n",
       " [],\n",
       " [],\n",
       " [],\n",
       " [],\n",
       " [],\n",
       " [],\n",
       " [],\n",
       " [],\n",
       " [],\n",
       " [],\n",
       " [],\n",
       " [],\n",
       " [],\n",
       " [],\n",
       " [],\n",
       " [],\n",
       " ['sensible', 'JJ', '\"0.192006096178561'],\n",
       " ['cat', 'NN', '\"0.180294783465778'],\n",
       " ['teacher', 'NN', '\"0.209346089783422'],\n",
       " ['(-HL', '\"0.184346351004962'],\n",
       " ['rabbit', 'NN', '\"0.174785671472587'],\n",
       " ['quiet', 'VB', '\"0.181728608945134'],\n",
       " ['uneducated', 'JJ', '\"0.199401482852697'],\n",
       " ['one', 'CD', '\"0.215459599893373'],\n",
       " ['at', 'IN', '\"0.240371784163876'],\n",
       " ['middle-class', 'NN', '\"0.175462127467282'],\n",
       " ['not', '*-NC', '\"0.240728474091148'],\n",
       " ['He', 'PPS', '\"0.405661721565768'],\n",
       " ['for', 'NN', '\"0.28545948477219'],\n",
       " ['Pierre', 'NP', '\"0.211077538451749'],\n",
       " ['one', 'DTX', '\"0.215459599893373'],\n",
       " ['teenager', 'NN', '\"0.219579364582522'],\n",
       " ['him', 'PPO', '\"0.201337840947694'],\n",
       " ['an', 'AT-HL', '\"0.269976246128858'],\n",
       " ['butcher', 'NN', '\"0.184518125741356'],\n",
       " ['Pierre', 'NP', '\"0.174876508678333'],\n",
       " ['it', 'PPS', '\"0.257678966279853'],\n",
       " ['had', 'NIL', '\"0.177179422893138'],\n",
       " ['and', 'NIL', '\"0.240100909742356'],\n",
       " ['worker', 'NN', '\"0.185575967692199'],\n",
       " ['not', '\"0.240728474091148'],\n",
       " ['Frenchman', 'NP', '\"0.18520101398428'],\n",
       " ['of', 'IN-NC', '\"0.242163063461057'],\n",
       " ['gentleman', 'NN', '\"0.659480428897119'],\n",
       " ['that', 'WPS-NC', '\"0.301816880550788'],\n",
       " ['caller', 'NN', '\"0.179691856667556'],\n",
       " ['a', 'AT-HL', '\"0.316285797623811'],\n",
       " ['contractor', 'NN', '\"0.176996020259447'],\n",
       " ['Cantonese', 'NP', '\"0.176016148569873'],\n",
       " ['her', 'PPO', '\"0.417037075617655'],\n",
       " ['cat', 'NN-NC', '\"0.180294783465778'],\n",
       " ['boy', 'UH', '\"0.268141021567406'],\n",
       " ['youngster', 'NN', '\"0.209774467590448'],\n",
       " ['women', 'NNS', '\"0.200456212858374'],\n",
       " ['up', 'RP-HL', '\"0.197311196268828'],\n",
       " ['man', 'NN', '\"0.572143010039916'],\n",
       " ['as', 'RB', '\"0.26821155534825'],\n",
       " ['man', 'VB', '\"0.333404774174187'],\n",
       " ['girl', 'NN', '\"0.416321128420341'],\n",
       " ['then', 'CS', '\"0.256457653005674'],\n",
       " ['Agnes', 'NP', '\"0.174664747169164'],\n",
       " ['out', 'RP-NC', '\"0.209825153037664'],\n",
       " ['always', 'RB', '\"0.192454642945265'],\n",
       " ['is', 'BEZ-TL', '\"0.30882992023715'],\n",
       " ['woman', 'VB', '\"0.274828908575341'],\n",
       " ['wastrel', 'NN', '\"0.209767928736921'],\n",
       " ['shy', 'JJ', '\"0.205169710736274'],\n",
       " ['but', 'CC-NC', '\"0.316337390283557'],\n",
       " ['child', 'NN', '\"0.247020977427616'],\n",
       " ['English', 'NP', '\"0.206183668772948'],\n",
       " ['ma', 'FW-CS'],\n",
       " [],\n",
       " [],\n",
       " [],\n",
       " [],\n",
       " [],\n",
       " [],\n",
       " [],\n",
       " [],\n",
       " [],\n",
       " [],\n",
       " [],\n",
       " [],\n",
       " [],\n",
       " [],\n",
       " [],\n",
       " [],\n",
       " [],\n",
       " [],\n",
       " [],\n",
       " [],\n",
       " [],\n",
       " [],\n",
       " [],\n",
       " [],\n",
       " [],\n",
       " [],\n",
       " [],\n",
       " [],\n",
       " [],\n",
       " [],\n",
       " [],\n",
       " [],\n",
       " [],\n",
       " [],\n",
       " [],\n",
       " [],\n",
       " [],\n",
       " [],\n",
       " [],\n",
       " [],\n",
       " [],\n",
       " [],\n",
       " [],\n",
       " [],\n",
       " ['inspector', 'NN', '\"0.179331832649393'],\n",
       " ['woman', 'NN', '\"0.232714163095375'],\n",
       " ['drunkard', 'NN', '\"0.25463541809138'],\n",
       " ['race', 'NN'],\n",
       " [],\n",
       " [],\n",
       " [],\n",
       " [],\n",
       " [],\n",
       " [],\n",
       " [],\n",
       " [],\n",
       " [],\n",
       " [],\n",
       " [],\n",
       " [],\n",
       " [],\n",
       " [],\n",
       " [],\n",
       " [],\n",
       " [],\n",
       " [],\n",
       " [],\n",
       " [],\n",
       " [],\n",
       " [],\n",
       " [],\n",
       " [],\n",
       " [],\n",
       " [],\n",
       " [],\n",
       " [],\n",
       " [],\n",
       " ['a', 'AT', '\"0.316285797623811'],\n",
       " ['into', 'IN-HL', '\"0.174984939121755'],\n",
       " ['poor', 'JJ-NC', '\"0.305105809204934'],\n",
       " ['fawn', 'NN', '\"0.191933176059776'],\n",
       " ['tutor', 'NN', '\"0.176153866637305'],\n",
       " ['as', 'IN', '\"0.26821155534825'],\n",
       " ['traveler', 'NN', '\"0.192306247498521'],\n",
       " ['bully', 'NN', '\"0.224390305012154'],\n",
       " ['that', 'WPS-HL', '\"0.301816880550788'],\n",
       " ['into', 'NIL', '\"0.174984939121755'],\n",
       " ['himself', 'PPL-NC', '\"0.212947994142666'],\n",
       " ['but', 'CC', '\"0.316337390283557'],\n",
       " ['woman', 'NN', '\"0.446248534068209'],\n",
       " ['with', 'IN-HL', '\"0.289696606598886'],\n",
       " ['to', 'TO', '\"0.252074538843789'],\n",
       " ['cu', 'NN'],\n",
       " [],\n",
       " [],\n",
       " [],\n",
       " ['middle-aged', 'JJ', '\"0.226762183801601'],\n",
       " ['his', 'PP$', '\"0.480457085316888'],\n",
       " ['when', 'WRB-NC', '\"0.225455653932468'],\n",
       " ['invalid', 'NN', '\"0.174703280402911'],\n",
       " ['an', 'AT', '\"0.269976246128858'],\n",
       " ['clerk', 'NN', '\"0.186192237568172'],\n",
       " ['attractive', 'JJ', '\"0.175699837986742'],\n",
       " ['as', 'CS-TL', '\"0.26821155534825'],\n",
       " ['then', 'RB-NC', '\"0.256457653005674'],\n",
       " ['on', 'RP', '\"0.271562763191116'],\n",
       " ['butler', 'NN', '\"0.176299868538585'],\n",
       " ['doctor', 'NN', '\"0.195072206793075'],\n",
       " ['is', 'BEZ-HL', '\"0.30882992023715'],\n",
       " ['out', 'RP', '\"0.209825153037664'],\n",
       " ['it', 'UH', '\"0.257678966279853'],\n",
       " ['them', 'PPO', '\"0.270862606684728'],\n",
       " ['omen', 'NN', '\"0.220836890357428'],\n",
       " ['bookseller', 'NN', '\"0.205919078584795'],\n",
       " ['little', 'RB', '\"0.214311569345519'],\n",
       " ['be', 'BE-HL', '\"0.205533960292108'],\n",
       " ['25-year-old', 'JJ', '\"0.182189253576353'],\n",
       " ['she', 'PPS-NC', '\"0.417623341132212'],\n",
       " ['race', 'NN-HL'],\n",
       " ['priest', 'NN', '\"0.201980448908607'],\n",
       " ['an', 'CC', '\"0.269976246128858'],\n",
       " ['one', 'PN-NC', '\"0.215459599893373'],\n",
       " ['passerby', 'NN', '\"0.202383983720085'],\n",
       " ['man', 'NN-HL', '\"0.572143010039916'],\n",
       " ['and', 'CC', '\"0.240100909742356'],\n",
       " ['artist', 'NN-HL', '\"0.176712713496379'],\n",
       " ['man', 'VB', '\"0.572143010039916'],\n",
       " ['peddle', 'VB'],\n",
       " [],\n",
       " [],\n",
       " [],\n",
       " [],\n",
       " [],\n",
       " [],\n",
       " [],\n",
       " [],\n",
       " [],\n",
       " [],\n",
       " [],\n",
       " [],\n",
       " [],\n",
       " [],\n",
       " [],\n",
       " [],\n",
       " [],\n",
       " [],\n",
       " [],\n",
       " [],\n",
       " [],\n",
       " [],\n",
       " [],\n",
       " [],\n",
       " [],\n",
       " [],\n",
       " [],\n",
       " [],\n",
       " [],\n",
       " [],\n",
       " [],\n",
       " [],\n",
       " [],\n",
       " [],\n",
       " [],\n",
       " [],\n",
       " [],\n",
       " [],\n",
       " [],\n",
       " [],\n",
       " ['was', 'BEDZ-HL', '\"0.248813250186405'],\n",
       " ['orphan', 'NN', '\"0.301899154294709'],\n",
       " ['soldier', 'NN', '\"0.181924249207847'],\n",
       " ['and', 'CC-TL', '\"0.240100909742356'],\n",
       " ['retarded', 'VBN-HL', '\"0.175539706126537'],\n",
       " ['simple', 'JJ', '\"0.201612584099485'],\n",
       " ['orphanage', 'NN', '\"0.190151235850238'],\n",
       " ['a', 'NIL', '\"0.316285797623811'],\n",
       " ['not', '*-HL', '\"0.240728474091148'],\n",
       " ['smart', 'RB', '\"0.2032562838851'],\n",
       " ['cadet', 'NN', '\"0.201980741414768'],\n",
       " ['out', 'IN', '\"0.209825153037664'],\n",
       " ['on', 'IN', '\"0.271562763191116'],\n",
       " ['villager', 'NN', '\"0.20816517116362'],\n",
       " ['to', 'NPS', '\"0.252074538843789'],\n",
       " ['yet', 'CC', '\"0.198631397427601'],\n",
       " ['she', 'PPS', '\"0.417623341132212'],\n",
       " ['liar', 'NN', '\"0.184692825587224'],\n",
       " ['waitress', 'NN', '\"0.189668525645854'],\n",
       " ['\"0.229515310829524'],\n",
       " ['by', 'IN', '\"0.249197189440925'],\n",
       " ['which', 'WDT', '\"0.189200351079971'],\n",
       " ['Marcel', 'NP', '\"0.193121783830442'],\n",
       " ['undertaker', 'NN', '\"0.175607725359082'],\n",
       " ['nagging', 'NN', '\"0.178250355279161'],\n",
       " ['Pierre', 'NP-TL', '\"0.211077538451749'],\n",
       " ['father', 'VB', '\"0.239523571615451'],\n",
       " ['had', 'HVD-HL', '\"0.177179422893138'],\n",
       " ['token', 'JJ', '\"0.190909723802189'],\n",
       " ['old', 'JJ', '\"0.205891049341389'],\n",
       " ['simpleton', 'NN', '\"0.216445908069953'],\n",
       " ['tells', 'VBZ', '\"0.17651540208798'],\n",
       " ['token', 'NN', '\"0.190909723802189'],\n",
       " ['vendor', 'NN', '\"0.218202691647805'],\n",
       " ['murderer', 'NN', '\"0.180778736847451'],\n",
       " ['rich', 'NN', '\"0.285408518197126'],\n",
       " ['then', 'RB-HL', '\"0.256457653005674'],\n",
       " ['man', 'NN-NC', '\"0.572143010039916'],\n",
       " ['stranger', 'JJR-NC', '\"0.292661054466787'],\n",
       " ['lonely', 'JJ', '\"0.24608880676075'],\n",
       " ['thief', 'NN', '\"0.178059202628139'],\n",
       " ['customer', 'NN', '\"0.18302630765968'],\n",
       " ['lad', 'NN', '\"0.194793315696123'],\n",
       " ['lame', 'JJ', '\"0.190835757546519'],\n",
       " ['delivery', 'NN', '\"0.178269118847044'],\n",
       " ['who', 'WPO', '\"0.404982592232762'],\n",
       " ['accommodates', 'VBZ', '\"0.217936629811252'],\n",
       " ['eccentric', 'JJ', '\"0.178999363789138'],\n",
       " ['that', 'QL', '\"0.301816880550788'],\n",
       " ['prostitute', 'VB', '\"0.268066084952149'],\n",
       " ['gentleman', 'NN', '\"0.222583541861414'],\n",
       " ['\"0.243181470078035'],\n",
       " ['assumes', 'VBZ', '\"0.175040588432'],\n",
       " ['fairly', 'RB', '\"0.188318152324561'],\n",
       " ['aimless', 'JJ', '\"0.214695480513891'],\n",
       " ['peasant', 'NN', '\"0.180844410710501'],\n",
       " ['musician', 'NN', '\"0.181317260673889'],\n",
       " ['about', 'IN', '\"0.230609624330675'],\n",
       " ['and', 'CC-TL-HL', '\"0.240100909742356'],\n",
       " ['into', 'IN', '\"0.174984939121755'],\n",
       " ['blind', 'JJ', '\"0.256452904357469'],\n",
       " ['customer', 'NN-HL', '\"0.18302630765968'],\n",
       " ['fairly', 'QL', '\"0.188318152324561'],\n",
       " ['aged', 'VBN', '\"0.21138073442222'],\n",
       " ['NIL', '\"0.184346351004962'],\n",
       " ['quiet', 'JJ-HL', '\"0.181728608945134'],\n",
       " ['he', 'PPS', '\"0.55419732960785'],\n",
       " ['that', 'CS-NC', '\"0.301816880550788'],\n",
       " ['on', 'IN-TL', '\"0.271562763191116'],\n",
       " ['himself', 'PPL', '\"0.212947994142666'],\n",
       " ['fisherman', 'NN', '\"0.211938848995231'],\n",
       " ['housekeeper', 'NN', '\"0.185622752748499'],\n",
       " ['then', 'RN', '\"0.256457653005674'],\n",
       " ['lucky', 'JJ', '\"0.221191089469929'],\n",
       " ['for', 'IN-HL', '\"0.28545948477219'],\n",
       " ['had', 'HVN', '\"0.177179422893138'],\n",
       " ['on', 'IN-NC', '\"0.271562763191116'],\n",
       " ['Pierre', 'NP-TL', '\"0.174876508678333'],\n",
       " ['redhead', 'NN', '\"0.193764293989876'],\n",
       " ['Mark', 'NP'],\n",
       " [],\n",
       " [],\n",
       " [],\n",
       " [],\n",
       " [],\n",
       " [],\n",
       " [],\n",
       " [],\n",
       " [],\n",
       " ['in', 'FW-IN', '\"0.302935017515629'],\n",
       " ['to', 'IN-NC', '\"0.252074538843789'],\n",
       " ['eccentric', 'NN', '\"0.178999363789138'],\n",
       " ['richer', 'JJR', '\"0.176403043560074'],\n",
       " ['white', 'NN', '\"0.175940873525158'],\n",
       " ['playboy', 'NN', '\"0.195583782611759'],\n",
       " ['claims', 'VBZ', '\"0.222632836512458'],\n",
       " ['her', 'PP$-NC', '\"0.417037075617655'],\n",
       " ['woman', 'VB', '\"0.232714163095375'],\n",
       " ['boy', 'NN', '\"0.317946332956607'],\n",
       " ['was', 'BEDZ', '\"0.248813250186405'],\n",
       " ['clerk', 'NN', '\"0.176831746519227'],\n",
       " ['his', 'PP$-NC', '\"0.480457085316888'],\n",
       " ['Africa', 'NP'],\n",
       " [],\n",
       " [],\n",
       " [],\n",
       " [],\n",
       " [],\n",
       " [],\n",
       " [],\n",
       " [],\n",
       " [],\n",
       " [],\n",
       " [],\n",
       " [],\n",
       " [],\n",
       " [],\n",
       " ['farmer', 'NN', '\"0.268043560394516'],\n",
       " ['he', 'NIL', '\"0.55419732960785'],\n",
       " ['has', 'HVZ-NC', '\"0.296093275699304'],\n",
       " ['fellow', 'JJ', '\"0.248888149654018'],\n",
       " ['nice', 'JJ', '\"0.190404764201265'],\n",
       " ['him', 'PPO-NC', '\"0.201337840947694'],\n",
       " ['waiter', 'NN', '\"0.218681092237954'],\n",
       " ['that', 'DT', '\"0.301816880550788'],\n",
       " ['thief', 'NN', '\"0.268209994657855'],\n",
       " ['to', 'TO-NC', '\"0.252074538843789'],\n",
       " ['after', 'CS', '\"0.211663195681566'],\n",
       " ['that', 'DT-NC', '\"0.301816880550788'],\n",
       " ['elderly', 'JJ', '\"0.271815883653173'],\n",
       " ['prostitute', 'NN', '\"0.268066084952149'],\n",
       " ['about', 'NIL', '\"0.230609624330675'],\n",
       " ['grubby', 'JJ', '\"0.185459475165205'],\n",
       " ['undertake', 'VB'],\n",
       " [],\n",
       " [],\n",
       " ['who', 'WPS', '\"0.404982592232762'],\n",
       " ['he', 'PPS', '\"0.189597421755585'],\n",
       " ['boy', 'NN-HL', '\"0.268141021567406'],\n",
       " ['shepherd', 'VB', '\"0.201851704866592'],\n",
       " ['kid', 'NN', '\"0.236513949365697'],\n",
       " ['them', 'PPO-HL', '\"0.270862606684728'],\n",
       " ['stranger', 'NN', '\"0.292661054466787'],\n",
       " ['which', 'WDT-NC', '\"0.189200351079971'],\n",
       " ['in', 'NIL', '\"0.302935017515629'],\n",
       " ['he', 'PPS', '\"0.204115013781813'],\n",
       " ['also', 'RB-HL', '\"0.208076481977135'],\n",
       " ['lady', 'NN', '\"0.200113353467195'],\n",
       " ['youth', 'NN', '\"0.188658187547502'],\n",
       " ['Rosy', 'JJ-TL', '\"0.194491001842935'],\n",
       " ['race', 'VB'],\n",
       " [],\n",
       " [],\n",
       " [],\n",
       " [],\n",
       " [],\n",
       " [],\n",
       " [],\n",
       " [],\n",
       " [],\n",
       " [],\n",
       " [],\n",
       " [],\n",
       " [],\n",
       " [],\n",
       " [],\n",
       " [],\n",
       " [],\n",
       " [],\n",
       " [],\n",
       " [],\n",
       " [],\n",
       " [],\n",
       " [],\n",
       " [],\n",
       " [],\n",
       " [],\n",
       " [],\n",
       " [],\n",
       " [],\n",
       " [],\n",
       " [],\n",
       " [],\n",
       " [],\n",
       " [],\n",
       " [],\n",
       " [],\n",
       " [],\n",
       " [],\n",
       " [],\n",
       " [],\n",
       " [],\n",
       " [],\n",
       " [],\n",
       " [],\n",
       " [],\n",
       " []]"
      ]
     },
     "execution_count": 75,
     "metadata": {},
     "output_type": "execute_result"
    }
   ],
   "source": [
    "m"
   ]
  },
  {
   "cell_type": "code",
   "execution_count": 76,
   "metadata": {
    "collapsed": true
   },
   "outputs": [],
   "source": [
    "m = [i for i in m if len(i) == 3]"
   ]
  },
  {
   "cell_type": "code",
   "execution_count": 81,
   "metadata": {
    "collapsed": false
   },
   "outputs": [],
   "source": [
    "m.sort(key=lambda tup: tup[2], reverse=True)\n",
    "f.sort(key=lambda tup: tup[2], reverse=True)"
   ]
  },
  {
   "cell_type": "code",
   "execution_count": 99,
   "metadata": {
    "collapsed": false
   },
   "outputs": [
    {
     "name": "stdout",
     "output_type": "stream",
     "text": [
      "[('gentleman', 'NN', '\"0.659480428897119'), ('man', 'NN', '\"0.572143010039916'), ('man', 'NN-HL', '\"0.572143010039916')] \n",
      " [('woman', 'VB', '\"0.66282005430008'), ('woman', 'NN', '\"0.66282005430008'), ('hers', 'PP$$', '\"0.65844990423138')]\n"
     ]
    }
   ],
   "source": [
    "m_tup, f_tup = [tuple(i) for i in m], [tuple(i) for i in f]\n",
    "print(m_tup[:3],\"\\n\", f_tup[:3])"
   ]
  },
  {
   "cell_type": "code",
   "execution_count": 128,
   "metadata": {
    "collapsed": false
   },
   "outputs": [],
   "source": [
    "shared_words_m = []\n",
    "shared_words_f = []\n",
    "for tup_m in m_tup:\n",
    "    for tup_f in f_tup:\n",
    "        if tup_m[0] == tup_f[0]:\n",
    "            shared_words_m.append(tup_m)\n",
    "            shared_words_f.append(tup_f)\n",
    "    \n",
    "    \n"
   ]
  },
  {
   "cell_type": "code",
   "execution_count": 129,
   "metadata": {
    "collapsed": false
   },
   "outputs": [
    {
     "name": "stdout",
     "output_type": "stream",
     "text": [
      "172 172\n"
     ]
    }
   ],
   "source": [
    "print(len(shared_words_m), len(shared_words_f))"
   ]
  },
  {
   "cell_type": "code",
   "execution_count": 132,
   "metadata": {
    "collapsed": false
   },
   "outputs": [
    {
     "name": "stdout",
     "output_type": "stream",
     "text": [
      "227 113\n"
     ]
    }
   ],
   "source": [
    "unique_words_f = [i for i in f_tup if i not in shared_words_f]\n",
    "unique_words_m = [i for i in m_tup if i not in shared_words_m]\n",
    "print(len(unique_words_m), len(unique_words_f))"
   ]
  },
  {
   "cell_type": "code",
   "execution_count": 133,
   "metadata": {
    "collapsed": false
   },
   "outputs": [
    {
     "data": {
      "text/plain": [
       "111"
      ]
     },
     "execution_count": 133,
     "metadata": {},
     "output_type": "execute_result"
    }
   ],
   "source": [
    "f_unique = [word for word in unique_words_f if word[0] not in stopwords.words(\"english\")]\n",
    "len(f_unique)"
   ]
  },
  {
   "cell_type": "code",
   "execution_count": 134,
   "metadata": {
    "collapsed": true
   },
   "outputs": [],
   "source": [
    "m_unique = [word for word in unique_words_m if word[0] not in stopwords.words(\"english\")]"
   ]
  },
  {
   "cell_type": "code",
   "execution_count": 135,
   "metadata": {
    "collapsed": false
   },
   "outputs": [
    {
     "data": {
      "text/plain": [
       "123"
      ]
     },
     "execution_count": 135,
     "metadata": {},
     "output_type": "execute_result"
    }
   ],
   "source": [
    "len(m_unique)"
   ]
  },
  {
   "cell_type": "code",
   "execution_count": 140,
   "metadata": {
    "collapsed": false
   },
   "outputs": [],
   "source": [
    "f_shared = [word for word in shared_words_f if word[0] not in stopwords.words(\"english\")]\n",
    "m_shared = [word for word in shared_words_m if word[0] not in stopwords.words(\"english\")]"
   ]
  },
  {
   "cell_type": "code",
   "execution_count": 142,
   "metadata": {
    "collapsed": false
   },
   "outputs": [
    {
     "data": {
      "text/plain": [
       "134"
      ]
     },
     "execution_count": 142,
     "metadata": {},
     "output_type": "execute_result"
    }
   ],
   "source": [
    "len(m_shared)"
   ]
  },
  {
   "cell_type": "code",
   "execution_count": 143,
   "metadata": {
    "collapsed": true
   },
   "outputs": [],
   "source": [
    "with open(\"clean_data/m_words_unique.csv\", \"w\") as csv_file:\n",
    "        writer = csv.writer(csv_file, delimiter=',')\n",
    "        for line in m_unique:\n",
    "            writer.writerow(line)"
   ]
  },
  {
   "cell_type": "code",
   "execution_count": 144,
   "metadata": {
    "collapsed": false
   },
   "outputs": [],
   "source": [
    "with open(\"clean_data/w_words_unique.csv\", \"w\") as csv_file:\n",
    "        writer = csv.writer(csv_file, delimiter=',')\n",
    "        for line in f_unique:\n",
    "            writer.writerow(line)"
   ]
  },
  {
   "cell_type": "code",
   "execution_count": 145,
   "metadata": {
    "collapsed": true
   },
   "outputs": [],
   "source": [
    "with open(\"clean_data/m_words_shared.csv\", \"w\") as csv_file:\n",
    "        writer = csv.writer(csv_file, delimiter=',')\n",
    "        for line in m_shared:\n",
    "            writer.writerow(line)\n",
    "            \n",
    "with open(\"clean_data/f_words_shared.csv\", \"w\") as csv_file:\n",
    "        writer = csv.writer(csv_file, delimiter=',')\n",
    "        for line in f_shared:\n",
    "            writer.writerow(line)"
   ]
  },
  {
   "cell_type": "code",
   "execution_count": null,
   "metadata": {
    "collapsed": true
   },
   "outputs": [],
   "source": []
  }
 ],
 "metadata": {
  "kernelspec": {
   "display_name": "Python 3",
   "language": "python",
   "name": "python3"
  },
  "language_info": {
   "codemirror_mode": {
    "name": "ipython",
    "version": 3
   },
   "file_extension": ".py",
   "mimetype": "text/x-python",
   "name": "python",
   "nbconvert_exporter": "python",
   "pygments_lexer": "ipython3",
   "version": "3.6.0"
  }
 },
 "nbformat": 4,
 "nbformat_minor": 2
}

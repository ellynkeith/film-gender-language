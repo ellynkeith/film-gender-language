{
 "cells": [
  {
   "cell_type": "code",
   "execution_count": 1,
   "metadata": {
    "collapsed": true
   },
   "outputs": [],
   "source": [
    "import nltk\n",
    "from nltk.corpus import stopwords\n",
    "from nltk.corpus import brown\n",
    "import csv"
   ]
  },
  {
   "cell_type": "code",
   "execution_count": 78,
   "metadata": {
    "collapsed": false
   },
   "outputs": [],
   "source": [
    "with open(\"m_500.csv\") as f:\n",
    "    data = f.readlines()"
   ]
  },
  {
   "cell_type": "code",
   "execution_count": 79,
   "metadata": {
    "collapsed": false
   },
   "outputs": [],
   "source": [
    "data = [line.split(\",\") for line in data[1:]]"
   ]
  },
  {
   "cell_type": "code",
   "execution_count": 80,
   "metadata": {
    "collapsed": false
   },
   "outputs": [],
   "source": [
    "words = [[line[0][1:-1],line[1]] for line in data]"
   ]
  },
  {
   "cell_type": "code",
   "execution_count": 81,
   "metadata": {
    "collapsed": false
   },
   "outputs": [
    {
     "data": {
      "text/plain": [
       "500"
      ]
     },
     "execution_count": 81,
     "metadata": {},
     "output_type": "execute_result"
    }
   ],
   "source": [
    "len(words)"
   ]
  },
  {
   "cell_type": "code",
   "execution_count": 82,
   "metadata": {
    "collapsed": false
   },
   "outputs": [],
   "source": [
    "brown = set(nltk.corpus.brown.tagged_words())"
   ]
  },
  {
   "cell_type": "code",
   "execution_count": 83,
   "metadata": {
    "collapsed": false
   },
   "outputs": [],
   "source": [
    "tokens = [(nltk.word_tokenize(word), distance) for (word, distance) in words]"
   ]
  },
  {
   "cell_type": "code",
   "execution_count": 84,
   "metadata": {
    "collapsed": false
   },
   "outputs": [
    {
     "data": {
      "text/plain": [
       "[(['gentleman'], '0.659480428897119\\n'),\n",
       " (['man'], '0.572143010039916\\n'),\n",
       " (['he'], '0.55419732960785\\n'),\n",
       " (['him'], '0.547100530853242\\n'),\n",
       " (['boy'], '0.540706008024567\\n'),\n",
       " (['his'], '0.480457085316888\\n'),\n",
       " (['woman'], '0.446248534068209\\n'),\n",
       " (['ma'], '\"'),\n",
       " (['she'], '0.417623341132212\\n'),\n",
       " (['her'], '0.417037075617655\\n')]"
      ]
     },
     "execution_count": 84,
     "metadata": {},
     "output_type": "execute_result"
    }
   ],
   "source": [
    "tokens[:10]"
   ]
  },
  {
   "cell_type": "code",
   "execution_count": 87,
   "metadata": {
    "collapsed": false
   },
   "outputs": [
    {
     "name": "stdout",
     "output_type": "stream",
     "text": [
      "[] \"\n"
     ]
    }
   ],
   "source": [
    "flat_tokens = []\n",
    "for (word, distance) in tokens:\n",
    "    try:\n",
    "        token = (word[0], distance)\n",
    "        flat_tokens.append(token)\n",
    "    except IndexError:\n",
    "        print(word, distance)\n",
    "        pass\n",
    "    "
   ]
  },
  {
   "cell_type": "code",
   "execution_count": 88,
   "metadata": {
    "collapsed": false
   },
   "outputs": [
    {
     "data": {
      "text/plain": [
       "499"
      ]
     },
     "execution_count": 88,
     "metadata": {},
     "output_type": "execute_result"
    }
   ],
   "source": [
    "len(flat_tokens)"
   ]
  },
  {
   "cell_type": "code",
   "execution_count": 89,
   "metadata": {
    "collapsed": false
   },
   "outputs": [
    {
     "name": "stdout",
     "output_type": "stream",
     "text": [
      "gentleman 0.659480428897119\n",
      "\n",
      "man 0.572143010039916\n",
      "\n",
      "he 0.55419732960785\n",
      "\n"
     ]
    }
   ],
   "source": [
    "for (w, distance) in flat_tokens[:3]:\n",
    "    print(w,distance)"
   ]
  },
  {
   "cell_type": "code",
   "execution_count": 90,
   "metadata": {
    "collapsed": false
   },
   "outputs": [],
   "source": [
    "tagged_words = []\n",
    "for (word, tag) in brown:\n",
    "    for (w, distance) in flat_tokens:\n",
    "        try:\n",
    "            if w == word:\n",
    "                tagged_words.append((word, tag, distance))\n",
    "        except:\n",
    "            print(w)\n",
    "        "
   ]
  },
  {
   "cell_type": "code",
   "execution_count": 91,
   "metadata": {
    "collapsed": false
   },
   "outputs": [
    {
     "data": {
      "text/plain": [
       "[('English', 'NP', '0.206183668772948\\n'),\n",
       " ('poor', 'JJ-NC', '0.305105809204934\\n'),\n",
       " ('claims', 'VBZ', '0.222632836512458\\n'),\n",
       " ('widower', 'NN', '0.17595392769303\\n'),\n",
       " ('then', 'RB-NC', '0.256457653005674\\n'),\n",
       " ('youth', 'NNS', '0.188658187547502\\n'),\n",
       " ('also', 'RB-HL', '0.208076481977135\\n'),\n",
       " ('retarded', 'VBN', '0.175539706126537\\n'),\n",
       " ('businessman', 'NN', '0.229530091491643\\n'),\n",
       " ('in', 'RP', '0.302935017515629\\n')]"
      ]
     },
     "execution_count": 91,
     "metadata": {},
     "output_type": "execute_result"
    }
   ],
   "source": [
    "tagged_words[:10]"
   ]
  },
  {
   "cell_type": "code",
   "execution_count": 92,
   "metadata": {
    "collapsed": true
   },
   "outputs": [],
   "source": [
    "tagged_words.sort(key=lambda tup: tup[2], reverse=True)"
   ]
  },
  {
   "cell_type": "code",
   "execution_count": 93,
   "metadata": {
    "collapsed": false
   },
   "outputs": [
    {
     "data": {
      "text/plain": [
       "537"
      ]
     },
     "execution_count": 93,
     "metadata": {},
     "output_type": "execute_result"
    }
   ],
   "source": [
    "len(tagged_words)"
   ]
  },
  {
   "cell_type": "code",
   "execution_count": 94,
   "metadata": {
    "collapsed": true
   },
   "outputs": [],
   "source": [
    "with open(\"clean_data/m_words_clean.csv\", \"w\") as csv_file:\n",
    "        writer = csv.writer(csv_file, delimiter=',')\n",
    "        for line in set(tagged_words):\n",
    "            writer.writerow(line)"
   ]
  },
  {
   "cell_type": "code",
   "execution_count": 51,
   "metadata": {
    "collapsed": false
   },
   "outputs": [
    {
     "data": {
      "text/plain": [
       "752"
      ]
     },
     "execution_count": 51,
     "metadata": {},
     "output_type": "execute_result"
    }
   ],
   "source": [
    "376*2"
   ]
  },
  {
   "cell_type": "code",
   "execution_count": null,
   "metadata": {
    "collapsed": true
   },
   "outputs": [],
   "source": []
  }
 ],
 "metadata": {
  "kernelspec": {
   "display_name": "Python 3",
   "language": "python",
   "name": "python3"
  },
  "language_info": {
   "codemirror_mode": {
    "name": "ipython",
    "version": 3
   },
   "file_extension": ".py",
   "mimetype": "text/x-python",
   "name": "python",
   "nbconvert_exporter": "python",
   "pygments_lexer": "ipython3",
   "version": "3.6.0"
  }
 },
 "nbformat": 4,
 "nbformat_minor": 2
}
